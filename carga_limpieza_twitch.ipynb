{
 "cells": [
  {
   "cell_type": "markdown",
   "id": "186c5d0d",
   "metadata": {},
   "source": [
    "En la última década, las plataformas de streaming han transformado la manera en que consumimos entretenimiento, ofreciendo un medio interactivo y en tiempo real para conectar a creadores con sus audiencias. Entre estas plataformas, **Twitch** se ha consolidado como el líder indiscutible en la transmisión de contenido en vivo, especialmente en el ámbito de los videojuegos. Durante la pandemia, Twitch experimentó un boom de creadores y espectadores, y mi mejor amigo fue uno de ellos. Empezó como un hobby, transmitiendo juegos y creando una pequeña comunidad que, con el tiempo, ha ido creciendo. Aunque aún no es famoso, sueña con vivir de esto y convertirlo en su carrera.\n",
    "\n",
    "Siempre me ha interesado cómo funciona Twitch, y viendo su esfuerzo diario, decidí ayudarlo. Quiero analizar datos de la plataforma para identificar qué estrategias, comportamientos o patrones pueden hacer que un streamer destaque y crezca más rápido. Mi objetivo es responder a la pregunta: **\"¿De qué forma sería más fácil que mi amigo se haga famoso y pueda vivir de Twitch?\"** y ofrecerle recomendaciones claras basadas en evidencia.\n",
    "\n",
    "<b>El siguiente proyecto se dividirá en 3 secciones:</p></b>\n",
    "<li>Limpieza y carga de datos\n",
    "<li>Análisis exploratorio univariado\n",
    "<li>Análisis exploratorio bivariado </li>\n",
    "\n",
    "<b><h3> Limpieza y Carga de Datos </h3></b>\n",
    "\n",
    "Como primer paso, debemos instalar los paquetes que utilizaremos en este proyecto:"
   ]
  },
  {
   "cell_type": "code",
   "execution_count": 3,
   "id": "14acfb97",
   "metadata": {
    "vscode": {
     "languageId": "r"
    }
   },
   "outputs": [],
   "source": [
    "library(readr)\n",
    "library(tidyverse)\n",
    "library(dplyr)\n",
    "library(naniar)\n",
    "library(knitr)\n",
    "library(ggcorrplot)"
   ]
  },
  {
   "cell_type": "code",
   "execution_count": 6,
   "id": "6261dad1",
   "metadata": {
    "vscode": {
     "languageId": "r"
    }
   },
   "outputs": [],
   "source": [
    "tabla_descripcion <- data.frame(\n",
    "  Variable = c(\"RANK\", \"NAME\", \"LANGUAGE\", \"TYPE\", \"MOST_STREAMED_GAME\", \n",
    "               \"2ND_MOST_STREAMED_GAME\", \"AVERAGE_STREAM_DURATION\", \n",
    "               \"FOLLOWERS_GAINED_PER_STREAM\", \"AVG_VIEWERS_PER_STREAM\",\n",
    "               \"AVG_GAMES_PER_STREAM\",\"TOTAL_TIME_STREAMED\",\"TOTAL_FOLLOWERS\",\n",
    "               \"TOTAL_VIEWS\", \"TOTAL_GAMES_STREAMED\", \"ACTIVE_DAYS_PER_WEEK\",\n",
    "               \"MOST_ACTIVE_DAY\", \"DAY_WITH_MOST_FOLLOWERS_GAINED\"),\n",
    "  Descripcion = c(\"Ranking del streamer\", \"Nickname del streamer\", \n",
    "                  \"Idioma del stream\", \"Tipo de stream\", \n",
    "                  \"Juego más streameado\", \"Segundo juego más streameado\", \n",
    "                  \"Duración del stream en horas\", \"Seguidores ganados por stream\", \n",
    "                  \"Cantidad de viewers por stream\", \"Cantidad de juegos por stream\",\n",
    "                  \"Tiempo total stremeado en horas\", \"Cantidad total de seguidores\",\n",
    "                  \"Cantidad total de vistas\", \"Cantidad total de juegos streameados\",\n",
    "                  \"Cantidad de días activo por semana\",\"Día más activo\", \n",
    "                  \"Día con más seguidores conseguidos\"))"
   ]
  },
  {
   "cell_type": "code",
   "execution_count": 7,
   "id": "aae14d27",
   "metadata": {
    "lines_to_next_cell": 0,
    "tags": [
     "remove_input"
    ],
    "vscode": {
     "languageId": "r"
    }
   },
   "outputs": [
    {
     "data": {
      "text/plain": [
       "\n",
       "\n",
       "|Variable                       |Descripcion                          |\n",
       "|:------------------------------|:------------------------------------|\n",
       "|RANK                           |Ranking del streamer                 |\n",
       "|NAME                           |Nickname del streamer                |\n",
       "|LANGUAGE                       |Idioma del stream                    |\n",
       "|TYPE                           |Tipo de stream                       |\n",
       "|MOST_STREAMED_GAME             |Juego más streameado                 |\n",
       "|2ND_MOST_STREAMED_GAME         |Segundo juego más streameado         |\n",
       "|AVERAGE_STREAM_DURATION        |Duración del stream en horas         |\n",
       "|FOLLOWERS_GAINED_PER_STREAM    |Seguidores ganados por stream        |\n",
       "|AVG_VIEWERS_PER_STREAM         |Cantidad de viewers por stream       |\n",
       "|AVG_GAMES_PER_STREAM           |Cantidad de juegos por stream        |\n",
       "|TOTAL_TIME_STREAMED            |Tiempo total stremeado en horas      |\n",
       "|TOTAL_FOLLOWERS                |Cantidad total de seguidores         |\n",
       "|TOTAL_VIEWS                    |Cantidad total de vistas             |\n",
       "|TOTAL_GAMES_STREAMED           |Cantidad total de juegos streameados |\n",
       "|ACTIVE_DAYS_PER_WEEK           |Cantidad de días activo por semana   |\n",
       "|MOST_ACTIVE_DAY                |Día más activo                       |\n",
       "|DAY_WITH_MOST_FOLLOWERS_GAINED |Día con más seguidores conseguidos   |"
      ]
     },
     "metadata": {},
     "output_type": "display_data"
    }
   ],
   "source": [
    "kable(tabla_descripcion)"
   ]
  },
  {
   "cell_type": "markdown",
   "id": "a0c29045",
   "metadata": {},
   "source": [
    "En este proyecto me voy a enfocar en distintas métricas que permitan responder a la pregunta inicial. Estas serán principalmente el **IDIOMA, JUEGOS MÁS STREMEADOS, DÍAS MÁS ACTIVOS, DURACIÓN PROMEDIO DE STREAMS, SEGUIDORES GANADOS POR STREAM**. Si bien esta data representa el TOP 1000 de Streamers en la plataforma, nos da una visión general del comportamiento y/o tendencias para posteriormente, realizar conclusiones propias."
   ]
  },
  {
   "cell_type": "code",
   "execution_count": 8,
   "id": "d68c9abd",
   "metadata": {
    "echo": true,
    "vscode": {
     "languageId": "r"
    }
   },
   "outputs": [
    {
     "name": "stderr",
     "output_type": "stream",
     "text": [
      "\u001b[1mRows: \u001b[22m\u001b[34m999\u001b[39m \u001b[1mColumns: \u001b[22m\u001b[34m17\u001b[39m\n",
      "\u001b[36m──\u001b[39m \u001b[1mColumn specification\u001b[22m \u001b[36m────────────────────────────────────────────────────────\u001b[39m\n",
      "\u001b[1mDelimiter:\u001b[22m \",\"\n",
      "\u001b[31mchr\u001b[39m  (7): NAME, LANGUAGE, TYPE, MOST_STREAMED_GAME, 2ND_MOST_STREAMED_GAME, ...\n",
      "\u001b[32mdbl\u001b[39m (10): RANK, AVERAGE_STREAM_DURATION, FOLLOWERS_GAINED_PER_STREAM, AVG_VI...\n",
      "\n",
      "\u001b[36mℹ\u001b[39m Use `spec()` to retrieve the full column specification for this data.\n",
      "\u001b[36mℹ\u001b[39m Specify the column types or set `show_col_types = FALSE` to quiet this message.\n"
     ]
    }
   ],
   "source": [
    "data_twitch <- read_csv(\"dataset/datasetV2.csv\")"
   ]
  },
  {
   "cell_type": "code",
   "execution_count": 9,
   "id": "8b3c657d",
   "metadata": {
    "echo": true,
    "lines_to_next_cell": 0,
    "vscode": {
     "languageId": "r"
    }
   },
   "outputs": [
    {
     "data": {
      "text/html": [
       "<table class=\"dataframe\">\n",
       "<caption>A tibble: 20 × 17</caption>\n",
       "<thead>\n",
       "\t<tr><th scope=col>RANK</th><th scope=col>NAME</th><th scope=col>LANGUAGE</th><th scope=col>TYPE</th><th scope=col>MOST_STREAMED_GAME</th><th scope=col>2ND_MOST_STREAMED_GAME</th><th scope=col>AVERAGE_STREAM_DURATION</th><th scope=col>FOLLOWERS_GAINED_PER_STREAM</th><th scope=col>AVG_VIEWERS_PER_STREAM</th><th scope=col>AVG_GAMES_PER_STREAM</th><th scope=col>TOTAL_TIME_STREAMED</th><th scope=col>TOTAL_FOLLOWERS</th><th scope=col>TOTAL_VIEWS</th><th scope=col>TOTAL_GAMES_STREAMED</th><th scope=col>ACTIVE_DAYS_PER_WEEK</th><th scope=col>MOST_ACTIVE_DAY</th><th scope=col>DAY_WITH_MOST_FOLLOWERS_GAINED</th></tr>\n",
       "\t<tr><th scope=col>&lt;dbl&gt;</th><th scope=col>&lt;chr&gt;</th><th scope=col>&lt;chr&gt;</th><th scope=col>&lt;chr&gt;</th><th scope=col>&lt;chr&gt;</th><th scope=col>&lt;chr&gt;</th><th scope=col>&lt;dbl&gt;</th><th scope=col>&lt;dbl&gt;</th><th scope=col>&lt;dbl&gt;</th><th scope=col>&lt;dbl&gt;</th><th scope=col>&lt;dbl&gt;</th><th scope=col>&lt;dbl&gt;</th><th scope=col>&lt;dbl&gt;</th><th scope=col>&lt;dbl&gt;</th><th scope=col>&lt;dbl&gt;</th><th scope=col>&lt;chr&gt;</th><th scope=col>&lt;chr&gt;</th></tr>\n",
       "</thead>\n",
       "<tbody>\n",
       "\t<tr><td> 1</td><td>kaicenat        </td><td>English </td><td>personality</td><td>Just Chatting                 </td><td>I'm Only Sleeping           </td><td> 7.6</td><td>18405</td><td> 15852</td><td>2.3</td><td> 4698</td><td>10600000</td><td>  9150000</td><td>194</td><td>3.6</td><td>Friday   </td><td>Saturday</td></tr>\n",
       "\t<tr><td> 2</td><td>jynxzi          </td><td>English </td><td>personality</td><td>Tom Clancy's Rainbow Six Siege</td><td>NBA 2K20                    </td><td> 5.4</td><td> 3386</td><td>  1145</td><td>1.2</td><td> 8407</td><td> 5760000</td><td>  1950000</td><td> 54</td><td>5.6</td><td>Tuesday  </td><td>Sunday  </td></tr>\n",
       "\t<tr><td> 3</td><td>caedrel         </td><td>English </td><td>personality</td><td>League of Legends             </td><td>I'm Only Sleeping           </td><td> 6.3</td><td>  689</td><td> 12331</td><td>1.3</td><td> 6728</td><td>  797000</td><td> 14200000</td><td>111</td><td>2.8</td><td>Thursday </td><td>Sunday  </td></tr>\n",
       "\t<tr><td> 4</td><td>caseoh_         </td><td>English </td><td>personality</td><td>NBA 2K23                      </td><td>Just Chatting               </td><td> 4.6</td><td> 7185</td><td>     0</td><td>3.6</td><td> 2554</td><td> 4220000</td><td>       53</td><td>385</td><td>6.2</td><td>Friday   </td><td>Monday  </td></tr>\n",
       "\t<tr><td> 5</td><td>ibai            </td><td>Spanish </td><td>personality</td><td>Just Chatting                 </td><td>League of Legends           </td><td> 4.1</td><td> 8289</td><td>190714</td><td>1.5</td><td> 6865</td><td>15600000</td><td>359000000</td><td>149</td><td>4.3</td><td>Wednesday</td><td>Saturday</td></tr>\n",
       "\t<tr><td> 6</td><td>auronplay       </td><td>Spanish </td><td>personality</td><td>Minecraft                     </td><td>Just Chatting               </td><td> 3.7</td><td> 1326</td><td>213849</td><td>1.8</td><td> 4482</td><td>16300000</td><td>263000000</td><td>169</td><td>5.0</td><td>Wednesday</td><td>Sunday  </td></tr>\n",
       "\t<tr><td> 7</td><td>zerator         </td><td>French  </td><td>personality</td><td>World of Warcraft             </td><td>VALORANT                    </td><td> 5.1</td><td> 6670</td><td> 70813</td><td>1.6</td><td> 9845</td><td> 1570000</td><td>156000000</td><td>448</td><td>5.0</td><td>Sunday   </td><td>Sunday  </td></tr>\n",
       "\t<tr><td> 8</td><td>tarik           </td><td>English </td><td>personality</td><td>VALORANT                      </td><td>Counter-Strike              </td><td> 7.6</td><td> 2013</td><td>  6043</td><td>1.3</td><td>10995</td><td> 3110000</td><td> 93300000</td><td> 78</td><td>3.7</td><td>Thursday </td><td>Sunday  </td></tr>\n",
       "\t<tr><td> 9</td><td>riotgames       </td><td>English </td><td>esports    </td><td>League of Legends             </td><td>League of Legends: Wild Rift</td><td> 8.5</td><td> 3434</td><td>346968</td><td>1.0</td><td> 9459</td><td> 6860000</td><td>  1339000</td><td>  8</td><td>2.8</td><td>Saturday </td><td>Sunday  </td></tr>\n",
       "\t<tr><td>10</td><td>papaplatte      </td><td>German  </td><td>personality</td><td>Just Chatting                 </td><td>Minecraft                   </td><td> 7.6</td><td> 1273</td><td> 48758</td><td>2.8</td><td>13979</td><td> 2410000</td><td> 92800000</td><td>503</td><td>4.7</td><td>Wednesday</td><td>Saturday</td></tr>\n",
       "\t<tr><td>11</td><td>dota2_paragon_ru</td><td>Russian </td><td>personality</td><td>Dota 2                        </td><td>NA                          </td><td>10.7</td><td> 1629</td><td>     0</td><td>1.0</td><td> 2291</td><td>  352000</td><td>        0</td><td>  1</td><td>2.8</td><td>Tuesday  </td><td>Sunday  </td></tr>\n",
       "\t<tr><td>12</td><td>aminematue      </td><td>French  </td><td>personality</td><td>Grand Theft Auto V            </td><td>Just Chatting               </td><td> 4.3</td><td> 5295</td><td> 30366</td><td>1.9</td><td> 2623</td><td> 2590000</td><td> 14900000</td><td> 68</td><td>2.8</td><td>Monday   </td><td>Saturday</td></tr>\n",
       "\t<tr><td>13</td><td>kato_junichi0817</td><td>Japanese</td><td>personality</td><td>Apex Legends                  </td><td>VALORANT                    </td><td> 6.3</td><td> 5460</td><td> 23768</td><td>1.2</td><td>   67</td><td>  939000</td><td> 38400000</td><td>136</td><td>5.2</td><td>Saturday </td><td>Sunday  </td></tr>\n",
       "\t<tr><td>14</td><td>fps_shaka       </td><td>Japanese</td><td>personality</td><td>PUBG: BATTLEGROUNDS           </td><td>Apex Legends                </td><td> 9.6</td><td> 5170</td><td> 49442</td><td>1.7</td><td>  235</td><td> 1420000</td><td>136000000</td><td>311</td><td>6.3</td><td>Monday   </td><td>Sunday  </td></tr>\n",
       "\t<tr><td>15</td><td>illojuan        </td><td>Spanish </td><td>personality</td><td>Just Chatting                 </td><td>Minecraft                   </td><td> 4.5</td><td> 2993</td><td> 52631</td><td>1.7</td><td> 7382</td><td> 4090000</td><td> 72000000</td><td>368</td><td>4.5</td><td>Thursday </td><td>Sunday  </td></tr>\n",
       "\t<tr><td>16</td><td>hasanabi        </td><td>English </td><td>personality</td><td>Just Chatting                 </td><td>Grand Theft Auto V          </td><td> 7.4</td><td> 1201</td><td> 53092</td><td>1.5</td><td>15811</td><td> 2570000</td><td>114000000</td><td>244</td><td>6.6</td><td>Tuesday  </td><td>Friday  </td></tr>\n",
       "\t<tr><td>17</td><td>montanablack88  </td><td>German  </td><td>personality</td><td>Just Chatting                 </td><td>Fortnite                    </td><td> 4.8</td><td> 3495</td><td> 10764</td><td>2.2</td><td>  714</td><td> 5340000</td><td>156000000</td><td>114</td><td>3.8</td><td>Sunday   </td><td>Tuesday </td></tr>\n",
       "\t<tr><td>18</td><td>playapex        </td><td>English </td><td>esports    </td><td>Apex Legends                  </td><td>Variety                     </td><td> 5.3</td><td> 5908</td><td>  8679</td><td>1.0</td><td> 1056</td><td> 1210000</td><td> 17800000</td><td>  2</td><td>0.7</td><td>Monday   </td><td>Friday  </td></tr>\n",
       "\t<tr><td>19</td><td>lolpacifictw    </td><td>Chinese </td><td>esports    </td><td>League of Legends             </td><td>NA                          </td><td> 5.6</td><td> 6340</td><td>101849</td><td>1.0</td><td> 2503</td><td>  281000</td><td> 44900000</td><td>  1</td><td>2.0</td><td>Saturday </td><td>Tuesday </td></tr>\n",
       "\t<tr><td>20</td><td>pgl_dota2       </td><td>English </td><td>esports    </td><td>Dota 2                        </td><td>NA                          </td><td>10.2</td><td> 1457</td><td>111936</td><td>1.0</td><td> 3421</td><td>  450000</td><td> 38100000</td><td>  1</td><td>0.8</td><td>Saturday </td><td>Sunday  </td></tr>\n",
       "</tbody>\n",
       "</table>\n"
      ],
      "text/latex": [
       "A tibble: 20 × 17\n",
       "\\begin{tabular}{lllllllllllllllll}\n",
       " RANK & NAME & LANGUAGE & TYPE & MOST\\_STREAMED\\_GAME & 2ND\\_MOST\\_STREAMED\\_GAME & AVERAGE\\_STREAM\\_DURATION & FOLLOWERS\\_GAINED\\_PER\\_STREAM & AVG\\_VIEWERS\\_PER\\_STREAM & AVG\\_GAMES\\_PER\\_STREAM & TOTAL\\_TIME\\_STREAMED & TOTAL\\_FOLLOWERS & TOTAL\\_VIEWS & TOTAL\\_GAMES\\_STREAMED & ACTIVE\\_DAYS\\_PER\\_WEEK & MOST\\_ACTIVE\\_DAY & DAY\\_WITH\\_MOST\\_FOLLOWERS\\_GAINED\\\\\n",
       " <dbl> & <chr> & <chr> & <chr> & <chr> & <chr> & <dbl> & <dbl> & <dbl> & <dbl> & <dbl> & <dbl> & <dbl> & <dbl> & <dbl> & <chr> & <chr>\\\\\n",
       "\\hline\n",
       "\t  1 & kaicenat         & English  & personality & Just Chatting                  & I'm Only Sleeping            &  7.6 & 18405 &  15852 & 2.3 &  4698 & 10600000 &   9150000 & 194 & 3.6 & Friday    & Saturday\\\\\n",
       "\t  2 & jynxzi           & English  & personality & Tom Clancy's Rainbow Six Siege & NBA 2K20                     &  5.4 &  3386 &   1145 & 1.2 &  8407 &  5760000 &   1950000 &  54 & 5.6 & Tuesday   & Sunday  \\\\\n",
       "\t  3 & caedrel          & English  & personality & League of Legends              & I'm Only Sleeping            &  6.3 &   689 &  12331 & 1.3 &  6728 &   797000 &  14200000 & 111 & 2.8 & Thursday  & Sunday  \\\\\n",
       "\t  4 & caseoh\\_          & English  & personality & NBA 2K23                       & Just Chatting                &  4.6 &  7185 &      0 & 3.6 &  2554 &  4220000 &        53 & 385 & 6.2 & Friday    & Monday  \\\\\n",
       "\t  5 & ibai             & Spanish  & personality & Just Chatting                  & League of Legends            &  4.1 &  8289 & 190714 & 1.5 &  6865 & 15600000 & 359000000 & 149 & 4.3 & Wednesday & Saturday\\\\\n",
       "\t  6 & auronplay        & Spanish  & personality & Minecraft                      & Just Chatting                &  3.7 &  1326 & 213849 & 1.8 &  4482 & 16300000 & 263000000 & 169 & 5.0 & Wednesday & Sunday  \\\\\n",
       "\t  7 & zerator          & French   & personality & World of Warcraft              & VALORANT                     &  5.1 &  6670 &  70813 & 1.6 &  9845 &  1570000 & 156000000 & 448 & 5.0 & Sunday    & Sunday  \\\\\n",
       "\t  8 & tarik            & English  & personality & VALORANT                       & Counter-Strike               &  7.6 &  2013 &   6043 & 1.3 & 10995 &  3110000 &  93300000 &  78 & 3.7 & Thursday  & Sunday  \\\\\n",
       "\t  9 & riotgames        & English  & esports     & League of Legends              & League of Legends: Wild Rift &  8.5 &  3434 & 346968 & 1.0 &  9459 &  6860000 &   1339000 &   8 & 2.8 & Saturday  & Sunday  \\\\\n",
       "\t 10 & papaplatte       & German   & personality & Just Chatting                  & Minecraft                    &  7.6 &  1273 &  48758 & 2.8 & 13979 &  2410000 &  92800000 & 503 & 4.7 & Wednesday & Saturday\\\\\n",
       "\t 11 & dota2\\_paragon\\_ru & Russian  & personality & Dota 2                         & NA                           & 10.7 &  1629 &      0 & 1.0 &  2291 &   352000 &         0 &   1 & 2.8 & Tuesday   & Sunday  \\\\\n",
       "\t 12 & aminematue       & French   & personality & Grand Theft Auto V             & Just Chatting                &  4.3 &  5295 &  30366 & 1.9 &  2623 &  2590000 &  14900000 &  68 & 2.8 & Monday    & Saturday\\\\\n",
       "\t 13 & kato\\_junichi0817 & Japanese & personality & Apex Legends                   & VALORANT                     &  6.3 &  5460 &  23768 & 1.2 &    67 &   939000 &  38400000 & 136 & 5.2 & Saturday  & Sunday  \\\\\n",
       "\t 14 & fps\\_shaka        & Japanese & personality & PUBG: BATTLEGROUNDS            & Apex Legends                 &  9.6 &  5170 &  49442 & 1.7 &   235 &  1420000 & 136000000 & 311 & 6.3 & Monday    & Sunday  \\\\\n",
       "\t 15 & illojuan         & Spanish  & personality & Just Chatting                  & Minecraft                    &  4.5 &  2993 &  52631 & 1.7 &  7382 &  4090000 &  72000000 & 368 & 4.5 & Thursday  & Sunday  \\\\\n",
       "\t 16 & hasanabi         & English  & personality & Just Chatting                  & Grand Theft Auto V           &  7.4 &  1201 &  53092 & 1.5 & 15811 &  2570000 & 114000000 & 244 & 6.6 & Tuesday   & Friday  \\\\\n",
       "\t 17 & montanablack88   & German   & personality & Just Chatting                  & Fortnite                     &  4.8 &  3495 &  10764 & 2.2 &   714 &  5340000 & 156000000 & 114 & 3.8 & Sunday    & Tuesday \\\\\n",
       "\t 18 & playapex         & English  & esports     & Apex Legends                   & Variety                      &  5.3 &  5908 &   8679 & 1.0 &  1056 &  1210000 &  17800000 &   2 & 0.7 & Monday    & Friday  \\\\\n",
       "\t 19 & lolpacifictw     & Chinese  & esports     & League of Legends              & NA                           &  5.6 &  6340 & 101849 & 1.0 &  2503 &   281000 &  44900000 &   1 & 2.0 & Saturday  & Tuesday \\\\\n",
       "\t 20 & pgl\\_dota2        & English  & esports     & Dota 2                         & NA                           & 10.2 &  1457 & 111936 & 1.0 &  3421 &   450000 &  38100000 &   1 & 0.8 & Saturday  & Sunday  \\\\\n",
       "\\end{tabular}\n"
      ],
      "text/markdown": [
       "\n",
       "A tibble: 20 × 17\n",
       "\n",
       "| RANK &lt;dbl&gt; | NAME &lt;chr&gt; | LANGUAGE &lt;chr&gt; | TYPE &lt;chr&gt; | MOST_STREAMED_GAME &lt;chr&gt; | 2ND_MOST_STREAMED_GAME &lt;chr&gt; | AVERAGE_STREAM_DURATION &lt;dbl&gt; | FOLLOWERS_GAINED_PER_STREAM &lt;dbl&gt; | AVG_VIEWERS_PER_STREAM &lt;dbl&gt; | AVG_GAMES_PER_STREAM &lt;dbl&gt; | TOTAL_TIME_STREAMED &lt;dbl&gt; | TOTAL_FOLLOWERS &lt;dbl&gt; | TOTAL_VIEWS &lt;dbl&gt; | TOTAL_GAMES_STREAMED &lt;dbl&gt; | ACTIVE_DAYS_PER_WEEK &lt;dbl&gt; | MOST_ACTIVE_DAY &lt;chr&gt; | DAY_WITH_MOST_FOLLOWERS_GAINED &lt;chr&gt; |\n",
       "|---|---|---|---|---|---|---|---|---|---|---|---|---|---|---|---|---|\n",
       "|  1 | kaicenat         | English  | personality | Just Chatting                  | I'm Only Sleeping            |  7.6 | 18405 |  15852 | 2.3 |  4698 | 10600000 |   9150000 | 194 | 3.6 | Friday    | Saturday |\n",
       "|  2 | jynxzi           | English  | personality | Tom Clancy's Rainbow Six Siege | NBA 2K20                     |  5.4 |  3386 |   1145 | 1.2 |  8407 |  5760000 |   1950000 |  54 | 5.6 | Tuesday   | Sunday   |\n",
       "|  3 | caedrel          | English  | personality | League of Legends              | I'm Only Sleeping            |  6.3 |   689 |  12331 | 1.3 |  6728 |   797000 |  14200000 | 111 | 2.8 | Thursday  | Sunday   |\n",
       "|  4 | caseoh_          | English  | personality | NBA 2K23                       | Just Chatting                |  4.6 |  7185 |      0 | 3.6 |  2554 |  4220000 |        53 | 385 | 6.2 | Friday    | Monday   |\n",
       "|  5 | ibai             | Spanish  | personality | Just Chatting                  | League of Legends            |  4.1 |  8289 | 190714 | 1.5 |  6865 | 15600000 | 359000000 | 149 | 4.3 | Wednesday | Saturday |\n",
       "|  6 | auronplay        | Spanish  | personality | Minecraft                      | Just Chatting                |  3.7 |  1326 | 213849 | 1.8 |  4482 | 16300000 | 263000000 | 169 | 5.0 | Wednesday | Sunday   |\n",
       "|  7 | zerator          | French   | personality | World of Warcraft              | VALORANT                     |  5.1 |  6670 |  70813 | 1.6 |  9845 |  1570000 | 156000000 | 448 | 5.0 | Sunday    | Sunday   |\n",
       "|  8 | tarik            | English  | personality | VALORANT                       | Counter-Strike               |  7.6 |  2013 |   6043 | 1.3 | 10995 |  3110000 |  93300000 |  78 | 3.7 | Thursday  | Sunday   |\n",
       "|  9 | riotgames        | English  | esports     | League of Legends              | League of Legends: Wild Rift |  8.5 |  3434 | 346968 | 1.0 |  9459 |  6860000 |   1339000 |   8 | 2.8 | Saturday  | Sunday   |\n",
       "| 10 | papaplatte       | German   | personality | Just Chatting                  | Minecraft                    |  7.6 |  1273 |  48758 | 2.8 | 13979 |  2410000 |  92800000 | 503 | 4.7 | Wednesday | Saturday |\n",
       "| 11 | dota2_paragon_ru | Russian  | personality | Dota 2                         | NA                           | 10.7 |  1629 |      0 | 1.0 |  2291 |   352000 |         0 |   1 | 2.8 | Tuesday   | Sunday   |\n",
       "| 12 | aminematue       | French   | personality | Grand Theft Auto V             | Just Chatting                |  4.3 |  5295 |  30366 | 1.9 |  2623 |  2590000 |  14900000 |  68 | 2.8 | Monday    | Saturday |\n",
       "| 13 | kato_junichi0817 | Japanese | personality | Apex Legends                   | VALORANT                     |  6.3 |  5460 |  23768 | 1.2 |    67 |   939000 |  38400000 | 136 | 5.2 | Saturday  | Sunday   |\n",
       "| 14 | fps_shaka        | Japanese | personality | PUBG: BATTLEGROUNDS            | Apex Legends                 |  9.6 |  5170 |  49442 | 1.7 |   235 |  1420000 | 136000000 | 311 | 6.3 | Monday    | Sunday   |\n",
       "| 15 | illojuan         | Spanish  | personality | Just Chatting                  | Minecraft                    |  4.5 |  2993 |  52631 | 1.7 |  7382 |  4090000 |  72000000 | 368 | 4.5 | Thursday  | Sunday   |\n",
       "| 16 | hasanabi         | English  | personality | Just Chatting                  | Grand Theft Auto V           |  7.4 |  1201 |  53092 | 1.5 | 15811 |  2570000 | 114000000 | 244 | 6.6 | Tuesday   | Friday   |\n",
       "| 17 | montanablack88   | German   | personality | Just Chatting                  | Fortnite                     |  4.8 |  3495 |  10764 | 2.2 |   714 |  5340000 | 156000000 | 114 | 3.8 | Sunday    | Tuesday  |\n",
       "| 18 | playapex         | English  | esports     | Apex Legends                   | Variety                      |  5.3 |  5908 |   8679 | 1.0 |  1056 |  1210000 |  17800000 |   2 | 0.7 | Monday    | Friday   |\n",
       "| 19 | lolpacifictw     | Chinese  | esports     | League of Legends              | NA                           |  5.6 |  6340 | 101849 | 1.0 |  2503 |   281000 |  44900000 |   1 | 2.0 | Saturday  | Tuesday  |\n",
       "| 20 | pgl_dota2        | English  | esports     | Dota 2                         | NA                           | 10.2 |  1457 | 111936 | 1.0 |  3421 |   450000 |  38100000 |   1 | 0.8 | Saturday  | Sunday   |\n",
       "\n"
      ],
      "text/plain": [
       "   RANK NAME             LANGUAGE TYPE        MOST_STREAMED_GAME            \n",
       "1   1   kaicenat         English  personality Just Chatting                 \n",
       "2   2   jynxzi           English  personality Tom Clancy's Rainbow Six Siege\n",
       "3   3   caedrel          English  personality League of Legends             \n",
       "4   4   caseoh_          English  personality NBA 2K23                      \n",
       "5   5   ibai             Spanish  personality Just Chatting                 \n",
       "6   6   auronplay        Spanish  personality Minecraft                     \n",
       "7   7   zerator          French   personality World of Warcraft             \n",
       "8   8   tarik            English  personality VALORANT                      \n",
       "9   9   riotgames        English  esports     League of Legends             \n",
       "10 10   papaplatte       German   personality Just Chatting                 \n",
       "11 11   dota2_paragon_ru Russian  personality Dota 2                        \n",
       "12 12   aminematue       French   personality Grand Theft Auto V            \n",
       "13 13   kato_junichi0817 Japanese personality Apex Legends                  \n",
       "14 14   fps_shaka        Japanese personality PUBG: BATTLEGROUNDS           \n",
       "15 15   illojuan         Spanish  personality Just Chatting                 \n",
       "16 16   hasanabi         English  personality Just Chatting                 \n",
       "17 17   montanablack88   German   personality Just Chatting                 \n",
       "18 18   playapex         English  esports     Apex Legends                  \n",
       "19 19   lolpacifictw     Chinese  esports     League of Legends             \n",
       "20 20   pgl_dota2        English  esports     Dota 2                        \n",
       "   2ND_MOST_STREAMED_GAME       AVERAGE_STREAM_DURATION\n",
       "1  I'm Only Sleeping             7.6                   \n",
       "2  NBA 2K20                      5.4                   \n",
       "3  I'm Only Sleeping             6.3                   \n",
       "4  Just Chatting                 4.6                   \n",
       "5  League of Legends             4.1                   \n",
       "6  Just Chatting                 3.7                   \n",
       "7  VALORANT                      5.1                   \n",
       "8  Counter-Strike                7.6                   \n",
       "9  League of Legends: Wild Rift  8.5                   \n",
       "10 Minecraft                     7.6                   \n",
       "11 NA                           10.7                   \n",
       "12 Just Chatting                 4.3                   \n",
       "13 VALORANT                      6.3                   \n",
       "14 Apex Legends                  9.6                   \n",
       "15 Minecraft                     4.5                   \n",
       "16 Grand Theft Auto V            7.4                   \n",
       "17 Fortnite                      4.8                   \n",
       "18 Variety                       5.3                   \n",
       "19 NA                            5.6                   \n",
       "20 NA                           10.2                   \n",
       "   FOLLOWERS_GAINED_PER_STREAM AVG_VIEWERS_PER_STREAM AVG_GAMES_PER_STREAM\n",
       "1  18405                        15852                 2.3                 \n",
       "2   3386                         1145                 1.2                 \n",
       "3    689                        12331                 1.3                 \n",
       "4   7185                            0                 3.6                 \n",
       "5   8289                       190714                 1.5                 \n",
       "6   1326                       213849                 1.8                 \n",
       "7   6670                        70813                 1.6                 \n",
       "8   2013                         6043                 1.3                 \n",
       "9   3434                       346968                 1.0                 \n",
       "10  1273                        48758                 2.8                 \n",
       "11  1629                            0                 1.0                 \n",
       "12  5295                        30366                 1.9                 \n",
       "13  5460                        23768                 1.2                 \n",
       "14  5170                        49442                 1.7                 \n",
       "15  2993                        52631                 1.7                 \n",
       "16  1201                        53092                 1.5                 \n",
       "17  3495                        10764                 2.2                 \n",
       "18  5908                         8679                 1.0                 \n",
       "19  6340                       101849                 1.0                 \n",
       "20  1457                       111936                 1.0                 \n",
       "   TOTAL_TIME_STREAMED TOTAL_FOLLOWERS TOTAL_VIEWS TOTAL_GAMES_STREAMED\n",
       "1   4698               10600000          9150000   194                 \n",
       "2   8407                5760000          1950000    54                 \n",
       "3   6728                 797000         14200000   111                 \n",
       "4   2554                4220000               53   385                 \n",
       "5   6865               15600000        359000000   149                 \n",
       "6   4482               16300000        263000000   169                 \n",
       "7   9845                1570000        156000000   448                 \n",
       "8  10995                3110000         93300000    78                 \n",
       "9   9459                6860000          1339000     8                 \n",
       "10 13979                2410000         92800000   503                 \n",
       "11  2291                 352000                0     1                 \n",
       "12  2623                2590000         14900000    68                 \n",
       "13    67                 939000         38400000   136                 \n",
       "14   235                1420000        136000000   311                 \n",
       "15  7382                4090000         72000000   368                 \n",
       "16 15811                2570000        114000000   244                 \n",
       "17   714                5340000        156000000   114                 \n",
       "18  1056                1210000         17800000     2                 \n",
       "19  2503                 281000         44900000     1                 \n",
       "20  3421                 450000         38100000     1                 \n",
       "   ACTIVE_DAYS_PER_WEEK MOST_ACTIVE_DAY DAY_WITH_MOST_FOLLOWERS_GAINED\n",
       "1  3.6                  Friday          Saturday                      \n",
       "2  5.6                  Tuesday         Sunday                        \n",
       "3  2.8                  Thursday        Sunday                        \n",
       "4  6.2                  Friday          Monday                        \n",
       "5  4.3                  Wednesday       Saturday                      \n",
       "6  5.0                  Wednesday       Sunday                        \n",
       "7  5.0                  Sunday          Sunday                        \n",
       "8  3.7                  Thursday        Sunday                        \n",
       "9  2.8                  Saturday        Sunday                        \n",
       "10 4.7                  Wednesday       Saturday                      \n",
       "11 2.8                  Tuesday         Sunday                        \n",
       "12 2.8                  Monday          Saturday                      \n",
       "13 5.2                  Saturday        Sunday                        \n",
       "14 6.3                  Monday          Sunday                        \n",
       "15 4.5                  Thursday        Sunday                        \n",
       "16 6.6                  Tuesday         Friday                        \n",
       "17 3.8                  Sunday          Tuesday                       \n",
       "18 0.7                  Monday          Friday                        \n",
       "19 2.0                  Saturday        Tuesday                       \n",
       "20 0.8                  Saturday        Sunday                        "
      ]
     },
     "metadata": {},
     "output_type": "display_data"
    }
   ],
   "source": [
    "head(data_twitch, 20)"
   ]
  },
  {
   "cell_type": "code",
   "execution_count": 10,
   "id": "f58b8446",
   "metadata": {
    "echo": true,
    "lines_to_next_cell": 0,
    "vscode": {
     "languageId": "r"
    }
   },
   "outputs": [
    {
     "data": {
      "text/html": [
       "<table class=\"dataframe\">\n",
       "<caption>A tibble: 17 × 3</caption>\n",
       "<thead>\n",
       "\t<tr><th scope=col>variable</th><th scope=col>n_miss</th><th scope=col>pct_miss</th></tr>\n",
       "\t<tr><th scope=col>&lt;chr&gt;</th><th scope=col>&lt;int&gt;</th><th scope=col>&lt;num&gt;</th></tr>\n",
       "</thead>\n",
       "<tbody>\n",
       "\t<tr><td>2ND_MOST_STREAMED_GAME        </td><td>77</td><td>7.71</td></tr>\n",
       "\t<tr><td>RANK                          </td><td> 0</td><td>0   </td></tr>\n",
       "\t<tr><td>NAME                          </td><td> 0</td><td>0   </td></tr>\n",
       "\t<tr><td>LANGUAGE                      </td><td> 0</td><td>0   </td></tr>\n",
       "\t<tr><td>TYPE                          </td><td> 0</td><td>0   </td></tr>\n",
       "\t<tr><td>MOST_STREAMED_GAME            </td><td> 0</td><td>0   </td></tr>\n",
       "\t<tr><td>AVERAGE_STREAM_DURATION       </td><td> 0</td><td>0   </td></tr>\n",
       "\t<tr><td>FOLLOWERS_GAINED_PER_STREAM   </td><td> 0</td><td>0   </td></tr>\n",
       "\t<tr><td>AVG_VIEWERS_PER_STREAM        </td><td> 0</td><td>0   </td></tr>\n",
       "\t<tr><td>AVG_GAMES_PER_STREAM          </td><td> 0</td><td>0   </td></tr>\n",
       "\t<tr><td>TOTAL_TIME_STREAMED           </td><td> 0</td><td>0   </td></tr>\n",
       "\t<tr><td>TOTAL_FOLLOWERS               </td><td> 0</td><td>0   </td></tr>\n",
       "\t<tr><td>TOTAL_VIEWS                   </td><td> 0</td><td>0   </td></tr>\n",
       "\t<tr><td>TOTAL_GAMES_STREAMED          </td><td> 0</td><td>0   </td></tr>\n",
       "\t<tr><td>ACTIVE_DAYS_PER_WEEK          </td><td> 0</td><td>0   </td></tr>\n",
       "\t<tr><td>MOST_ACTIVE_DAY               </td><td> 0</td><td>0   </td></tr>\n",
       "\t<tr><td>DAY_WITH_MOST_FOLLOWERS_GAINED</td><td> 0</td><td>0   </td></tr>\n",
       "</tbody>\n",
       "</table>\n"
      ],
      "text/latex": [
       "A tibble: 17 × 3\n",
       "\\begin{tabular}{lll}\n",
       " variable & n\\_miss & pct\\_miss\\\\\n",
       " <chr> & <int> & <num>\\\\\n",
       "\\hline\n",
       "\t 2ND\\_MOST\\_STREAMED\\_GAME         & 77 & 7.71\\\\\n",
       "\t RANK                           &  0 & 0   \\\\\n",
       "\t NAME                           &  0 & 0   \\\\\n",
       "\t LANGUAGE                       &  0 & 0   \\\\\n",
       "\t TYPE                           &  0 & 0   \\\\\n",
       "\t MOST\\_STREAMED\\_GAME             &  0 & 0   \\\\\n",
       "\t AVERAGE\\_STREAM\\_DURATION        &  0 & 0   \\\\\n",
       "\t FOLLOWERS\\_GAINED\\_PER\\_STREAM    &  0 & 0   \\\\\n",
       "\t AVG\\_VIEWERS\\_PER\\_STREAM         &  0 & 0   \\\\\n",
       "\t AVG\\_GAMES\\_PER\\_STREAM           &  0 & 0   \\\\\n",
       "\t TOTAL\\_TIME\\_STREAMED            &  0 & 0   \\\\\n",
       "\t TOTAL\\_FOLLOWERS                &  0 & 0   \\\\\n",
       "\t TOTAL\\_VIEWS                    &  0 & 0   \\\\\n",
       "\t TOTAL\\_GAMES\\_STREAMED           &  0 & 0   \\\\\n",
       "\t ACTIVE\\_DAYS\\_PER\\_WEEK           &  0 & 0   \\\\\n",
       "\t MOST\\_ACTIVE\\_DAY                &  0 & 0   \\\\\n",
       "\t DAY\\_WITH\\_MOST\\_FOLLOWERS\\_GAINED &  0 & 0   \\\\\n",
       "\\end{tabular}\n"
      ],
      "text/markdown": [
       "\n",
       "A tibble: 17 × 3\n",
       "\n",
       "| variable &lt;chr&gt; | n_miss &lt;int&gt; | pct_miss &lt;num&gt; |\n",
       "|---|---|---|\n",
       "| 2ND_MOST_STREAMED_GAME         | 77 | 7.71 |\n",
       "| RANK                           |  0 | 0    |\n",
       "| NAME                           |  0 | 0    |\n",
       "| LANGUAGE                       |  0 | 0    |\n",
       "| TYPE                           |  0 | 0    |\n",
       "| MOST_STREAMED_GAME             |  0 | 0    |\n",
       "| AVERAGE_STREAM_DURATION        |  0 | 0    |\n",
       "| FOLLOWERS_GAINED_PER_STREAM    |  0 | 0    |\n",
       "| AVG_VIEWERS_PER_STREAM         |  0 | 0    |\n",
       "| AVG_GAMES_PER_STREAM           |  0 | 0    |\n",
       "| TOTAL_TIME_STREAMED            |  0 | 0    |\n",
       "| TOTAL_FOLLOWERS                |  0 | 0    |\n",
       "| TOTAL_VIEWS                    |  0 | 0    |\n",
       "| TOTAL_GAMES_STREAMED           |  0 | 0    |\n",
       "| ACTIVE_DAYS_PER_WEEK           |  0 | 0    |\n",
       "| MOST_ACTIVE_DAY                |  0 | 0    |\n",
       "| DAY_WITH_MOST_FOLLOWERS_GAINED |  0 | 0    |\n",
       "\n"
      ],
      "text/plain": [
       "   variable                       n_miss pct_miss\n",
       "1  2ND_MOST_STREAMED_GAME         77     7.71    \n",
       "2  RANK                            0     0       \n",
       "3  NAME                            0     0       \n",
       "4  LANGUAGE                        0     0       \n",
       "5  TYPE                            0     0       \n",
       "6  MOST_STREAMED_GAME              0     0       \n",
       "7  AVERAGE_STREAM_DURATION         0     0       \n",
       "8  FOLLOWERS_GAINED_PER_STREAM     0     0       \n",
       "9  AVG_VIEWERS_PER_STREAM          0     0       \n",
       "10 AVG_GAMES_PER_STREAM            0     0       \n",
       "11 TOTAL_TIME_STREAMED             0     0       \n",
       "12 TOTAL_FOLLOWERS                 0     0       \n",
       "13 TOTAL_VIEWS                     0     0       \n",
       "14 TOTAL_GAMES_STREAMED            0     0       \n",
       "15 ACTIVE_DAYS_PER_WEEK            0     0       \n",
       "16 MOST_ACTIVE_DAY                 0     0       \n",
       "17 DAY_WITH_MOST_FOLLOWERS_GAINED  0     0       "
      ]
     },
     "metadata": {},
     "output_type": "display_data"
    }
   ],
   "source": [
    "miss_var_summary(data_twitch)"
   ]
  },
  {
   "cell_type": "markdown",
   "id": "485a80cb",
   "metadata": {},
   "source": [
    "Después de analizar a que corresponde cada variable y que información nos van a dar a lo largo del proyecto, vemos que las \"clases\" están definidas correctamente.\n",
    "\n",
    "También se analizan los datos faltantes de nuestra base para decidir que hacer con ellos. En este caso, podemos ver que solo existe una variable con **n_miss** y es la **2ND_MOST_STREAMED_GAME**. Esto tiene sentido, ya que existen streamers que solo se muestran jugando un juego y por ende esta variable quedaría sin información. Para efectos de manipulación de los títulos, los cambiaremos a letras minúsculas y la variable **2ND_MOST_STREAMED_GAME** será modificada solamente por letras.Reemplazaremos los valores faltantes de esta variable por la etiqueta **Sin juego**."
   ]
  },
  {
   "cell_type": "code",
   "execution_count": 11,
   "id": "3faa4fa7",
   "metadata": {
    "echo": true,
    "lines_to_next_cell": 0,
    "vscode": {
     "languageId": "r"
    }
   },
   "outputs": [],
   "source": [
    "data_twitch <- rename(data_twitch, SECOND_MOST_STREAMED_GAME = `2ND_MOST_STREAMED_GAME`)"
   ]
  },
  {
   "cell_type": "code",
   "execution_count": 12,
   "id": "5f5c7375",
   "metadata": {
    "tags": [
     "remove_input"
    ],
    "vscode": {
     "languageId": "r"
    }
   },
   "outputs": [
    {
     "name": "stdout",
     "output_type": "stream",
     "text": [
      "\u001b[90m# A tibble: 999 × 17\u001b[39m\n",
      "    RANK NAME       LANGUAGE TYPE      MOST_STREAMED_GAME SECOND_MOST_STREAMED…¹\n",
      "   \u001b[3m\u001b[90m<dbl>\u001b[39m\u001b[23m \u001b[3m\u001b[90m<chr>\u001b[39m\u001b[23m      \u001b[3m\u001b[90m<chr>\u001b[39m\u001b[23m    \u001b[3m\u001b[90m<chr>\u001b[39m\u001b[23m     \u001b[3m\u001b[90m<chr>\u001b[39m\u001b[23m              \u001b[3m\u001b[90m<chr>\u001b[39m\u001b[23m                 \n",
      "\u001b[90m 1\u001b[39m     1 kaicenat   English  personal… Just Chatting      I'm Only Sleeping     \n",
      "\u001b[90m 2\u001b[39m     2 jynxzi     English  personal… Tom Clancy's Rain… NBA 2K20              \n",
      "\u001b[90m 3\u001b[39m     3 caedrel    English  personal… League of Legends  I'm Only Sleeping     \n",
      "\u001b[90m 4\u001b[39m     4 caseoh_    English  personal… NBA 2K23           Just Chatting         \n",
      "\u001b[90m 5\u001b[39m     5 ibai       Spanish  personal… Just Chatting      League of Legends     \n",
      "\u001b[90m 6\u001b[39m     6 auronplay  Spanish  personal… Minecraft          Just Chatting         \n",
      "\u001b[90m 7\u001b[39m     7 zerator    French   personal… World of Warcraft  VALORANT              \n",
      "\u001b[90m 8\u001b[39m     8 tarik      English  personal… VALORANT           Counter-Strike        \n",
      "\u001b[90m 9\u001b[39m     9 riotgames  English  esports   League of Legends  League of Legends: Wi…\n",
      "\u001b[90m10\u001b[39m    10 papaplatte German   personal… Just Chatting      Minecraft             \n",
      "\u001b[90m# ℹ 989 more rows\u001b[39m\n",
      "\u001b[90m# ℹ abbreviated name: ¹​SECOND_MOST_STREAMED_GAME\u001b[39m\n",
      "\u001b[90m# ℹ 11 more variables: AVERAGE_STREAM_DURATION <dbl>,\u001b[39m\n",
      "\u001b[90m#   FOLLOWERS_GAINED_PER_STREAM <dbl>, AVG_VIEWERS_PER_STREAM <dbl>,\u001b[39m\n",
      "\u001b[90m#   AVG_GAMES_PER_STREAM <dbl>, TOTAL_TIME_STREAMED <dbl>,\u001b[39m\n",
      "\u001b[90m#   TOTAL_FOLLOWERS <dbl>, TOTAL_VIEWS <dbl>, TOTAL_GAMES_STREAMED <dbl>,\u001b[39m\n",
      "\u001b[90m#   ACTIVE_DAYS_PER_WEEK <dbl>, MOST_ACTIVE_DAY <chr>, …\u001b[39m\n"
     ]
    }
   ],
   "source": [
    "print(data_twitch)"
   ]
  },
  {
   "cell_type": "code",
   "execution_count": 13,
   "id": "f6993bfb",
   "metadata": {
    "echo": true,
    "lines_to_next_cell": 0,
    "vscode": {
     "languageId": "r"
    }
   },
   "outputs": [],
   "source": [
    "names(data_twitch) <- str_to_lower(names(data_twitch))"
   ]
  },
  {
   "cell_type": "code",
   "execution_count": 14,
   "id": "a2edb088",
   "metadata": {
    "echo": true,
    "lines_to_next_cell": 0,
    "vscode": {
     "languageId": "r"
    }
   },
   "outputs": [],
   "source": [
    "data_twitch <- data_twitch %>%\n",
    "  mutate(second_most_streamed_game = replace_na(second_most_streamed_game, \"Sin juego\"))"
   ]
  },
  {
   "cell_type": "code",
   "execution_count": 15,
   "id": "6b60b8e2",
   "metadata": {
    "tags": [
     "remove_input"
    ],
    "vscode": {
     "languageId": "r"
    }
   },
   "outputs": [
    {
     "name": "stdout",
     "output_type": "stream",
     "text": [
      "\u001b[90m# A tibble: 999 × 17\u001b[39m\n",
      "    rank name       language type      most_streamed_game second_most_streamed…¹\n",
      "   \u001b[3m\u001b[90m<dbl>\u001b[39m\u001b[23m \u001b[3m\u001b[90m<chr>\u001b[39m\u001b[23m      \u001b[3m\u001b[90m<chr>\u001b[39m\u001b[23m    \u001b[3m\u001b[90m<chr>\u001b[39m\u001b[23m     \u001b[3m\u001b[90m<chr>\u001b[39m\u001b[23m              \u001b[3m\u001b[90m<chr>\u001b[39m\u001b[23m                 \n",
      "\u001b[90m 1\u001b[39m     1 kaicenat   English  personal… Just Chatting      I'm Only Sleeping     \n",
      "\u001b[90m 2\u001b[39m     2 jynxzi     English  personal… Tom Clancy's Rain… NBA 2K20              \n",
      "\u001b[90m 3\u001b[39m     3 caedrel    English  personal… League of Legends  I'm Only Sleeping     \n",
      "\u001b[90m 4\u001b[39m     4 caseoh_    English  personal… NBA 2K23           Just Chatting         \n",
      "\u001b[90m 5\u001b[39m     5 ibai       Spanish  personal… Just Chatting      League of Legends     \n",
      "\u001b[90m 6\u001b[39m     6 auronplay  Spanish  personal… Minecraft          Just Chatting         \n",
      "\u001b[90m 7\u001b[39m     7 zerator    French   personal… World of Warcraft  VALORANT              \n",
      "\u001b[90m 8\u001b[39m     8 tarik      English  personal… VALORANT           Counter-Strike        \n",
      "\u001b[90m 9\u001b[39m     9 riotgames  English  esports   League of Legends  League of Legends: Wi…\n",
      "\u001b[90m10\u001b[39m    10 papaplatte German   personal… Just Chatting      Minecraft             \n",
      "\u001b[90m# ℹ 989 more rows\u001b[39m\n",
      "\u001b[90m# ℹ abbreviated name: ¹​second_most_streamed_game\u001b[39m\n",
      "\u001b[90m# ℹ 11 more variables: average_stream_duration <dbl>,\u001b[39m\n",
      "\u001b[90m#   followers_gained_per_stream <dbl>, avg_viewers_per_stream <dbl>,\u001b[39m\n",
      "\u001b[90m#   avg_games_per_stream <dbl>, total_time_streamed <dbl>,\u001b[39m\n",
      "\u001b[90m#   total_followers <dbl>, total_views <dbl>, total_games_streamed <dbl>,\u001b[39m\n",
      "\u001b[90m#   active_days_per_week <dbl>, most_active_day <chr>, …\u001b[39m\n"
     ]
    }
   ],
   "source": [
    "print(data_twitch)"
   ]
  },
  {
   "cell_type": "markdown",
   "id": "1e9639f5",
   "metadata": {},
   "source": [
    "Corroboramos que se hayan aplicado los cambios y que ya no tenemos valores faltantes:"
   ]
  },
  {
   "cell_type": "code",
   "execution_count": 16,
   "id": "b138637d",
   "metadata": {
    "echo": true,
    "vscode": {
     "languageId": "r"
    }
   },
   "outputs": [],
   "source": [
    "filtro_sin_juego <- data_twitch %>% \n",
    "  filter(second_most_streamed_game == \"Sin juego\") %>% \n",
    "  group_by(second_most_streamed_game) %>% \n",
    "  summarize(count = n())"
   ]
  },
  {
   "cell_type": "code",
   "execution_count": 17,
   "id": "95bca065",
   "metadata": {
    "lines_to_next_cell": 0,
    "tags": [
     "remove_input"
    ],
    "vscode": {
     "languageId": "r"
    }
   },
   "outputs": [
    {
     "name": "stdout",
     "output_type": "stream",
     "text": [
      "\u001b[90m# A tibble: 1 × 2\u001b[39m\n",
      "  second_most_streamed_game count\n",
      "  \u001b[3m\u001b[90m<chr>\u001b[39m\u001b[23m                     \u001b[3m\u001b[90m<int>\u001b[39m\u001b[23m\n",
      "\u001b[90m1\u001b[39m Sin juego                    77\n"
     ]
    }
   ],
   "source": [
    "print(filtro_sin_juego)"
   ]
  },
  {
   "cell_type": "code",
   "execution_count": null,
   "id": "97dcc34a",
   "metadata": {
    "echo": true,
    "lines_to_next_cell": 0,
    "vscode": {
     "languageId": "r"
    }
   },
   "outputs": [
    {
     "data": {
      "text/html": [
       "<table class=\"dataframe\">\n",
       "<caption>A tibble: 17 × 3</caption>\n",
       "<thead>\n",
       "\t<tr><th scope=col>variable</th><th scope=col>n_miss</th><th scope=col>pct_miss</th></tr>\n",
       "\t<tr><th scope=col>&lt;chr&gt;</th><th scope=col>&lt;int&gt;</th><th scope=col>&lt;num&gt;</th></tr>\n",
       "</thead>\n",
       "<tbody>\n",
       "\t<tr><td>rank                          </td><td>0</td><td>0</td></tr>\n",
       "\t<tr><td>name                          </td><td>0</td><td>0</td></tr>\n",
       "\t<tr><td>language                      </td><td>0</td><td>0</td></tr>\n",
       "\t<tr><td>type                          </td><td>0</td><td>0</td></tr>\n",
       "\t<tr><td>most_streamed_game            </td><td>0</td><td>0</td></tr>\n",
       "\t<tr><td>second_most_streamed_game     </td><td>0</td><td>0</td></tr>\n",
       "\t<tr><td>average_stream_duration       </td><td>0</td><td>0</td></tr>\n",
       "\t<tr><td>followers_gained_per_stream   </td><td>0</td><td>0</td></tr>\n",
       "\t<tr><td>avg_viewers_per_stream        </td><td>0</td><td>0</td></tr>\n",
       "\t<tr><td>avg_games_per_stream          </td><td>0</td><td>0</td></tr>\n",
       "\t<tr><td>total_time_streamed           </td><td>0</td><td>0</td></tr>\n",
       "\t<tr><td>total_followers               </td><td>0</td><td>0</td></tr>\n",
       "\t<tr><td>total_views                   </td><td>0</td><td>0</td></tr>\n",
       "\t<tr><td>total_games_streamed          </td><td>0</td><td>0</td></tr>\n",
       "\t<tr><td>active_days_per_week          </td><td>0</td><td>0</td></tr>\n",
       "\t<tr><td>most_active_day               </td><td>0</td><td>0</td></tr>\n",
       "\t<tr><td>day_with_most_followers_gained</td><td>0</td><td>0</td></tr>\n",
       "</tbody>\n",
       "</table>\n"
      ],
      "text/latex": [
       "A tibble: 17 × 3\n",
       "\\begin{tabular}{lll}\n",
       " variable & n\\_miss & pct\\_miss\\\\\n",
       " <chr> & <int> & <num>\\\\\n",
       "\\hline\n",
       "\t rank                           & 0 & 0\\\\\n",
       "\t name                           & 0 & 0\\\\\n",
       "\t language                       & 0 & 0\\\\\n",
       "\t type                           & 0 & 0\\\\\n",
       "\t most\\_streamed\\_game             & 0 & 0\\\\\n",
       "\t second\\_most\\_streamed\\_game      & 0 & 0\\\\\n",
       "\t average\\_stream\\_duration        & 0 & 0\\\\\n",
       "\t followers\\_gained\\_per\\_stream    & 0 & 0\\\\\n",
       "\t avg\\_viewers\\_per\\_stream         & 0 & 0\\\\\n",
       "\t avg\\_games\\_per\\_stream           & 0 & 0\\\\\n",
       "\t total\\_time\\_streamed            & 0 & 0\\\\\n",
       "\t total\\_followers                & 0 & 0\\\\\n",
       "\t total\\_views                    & 0 & 0\\\\\n",
       "\t total\\_games\\_streamed           & 0 & 0\\\\\n",
       "\t active\\_days\\_per\\_week           & 0 & 0\\\\\n",
       "\t most\\_active\\_day                & 0 & 0\\\\\n",
       "\t day\\_with\\_most\\_followers\\_gained & 0 & 0\\\\\n",
       "\\end{tabular}\n"
      ],
      "text/markdown": [
       "\n",
       "A tibble: 17 × 3\n",
       "\n",
       "| variable &lt;chr&gt; | n_miss &lt;int&gt; | pct_miss &lt;num&gt; |\n",
       "|---|---|---|\n",
       "| rank                           | 0 | 0 |\n",
       "| name                           | 0 | 0 |\n",
       "| language                       | 0 | 0 |\n",
       "| type                           | 0 | 0 |\n",
       "| most_streamed_game             | 0 | 0 |\n",
       "| second_most_streamed_game      | 0 | 0 |\n",
       "| average_stream_duration        | 0 | 0 |\n",
       "| followers_gained_per_stream    | 0 | 0 |\n",
       "| avg_viewers_per_stream         | 0 | 0 |\n",
       "| avg_games_per_stream           | 0 | 0 |\n",
       "| total_time_streamed            | 0 | 0 |\n",
       "| total_followers                | 0 | 0 |\n",
       "| total_views                    | 0 | 0 |\n",
       "| total_games_streamed           | 0 | 0 |\n",
       "| active_days_per_week           | 0 | 0 |\n",
       "| most_active_day                | 0 | 0 |\n",
       "| day_with_most_followers_gained | 0 | 0 |\n",
       "\n"
      ],
      "text/plain": [
       "   variable                       n_miss pct_miss\n",
       "1  rank                           0      0       \n",
       "2  name                           0      0       \n",
       "3  language                       0      0       \n",
       "4  type                           0      0       \n",
       "5  most_streamed_game             0      0       \n",
       "6  second_most_streamed_game      0      0       \n",
       "7  average_stream_duration        0      0       \n",
       "8  followers_gained_per_stream    0      0       \n",
       "9  avg_viewers_per_stream         0      0       \n",
       "10 avg_games_per_stream           0      0       \n",
       "11 total_time_streamed            0      0       \n",
       "12 total_followers                0      0       \n",
       "13 total_views                    0      0       \n",
       "14 total_games_streamed           0      0       \n",
       "15 active_days_per_week           0      0       \n",
       "16 most_active_day                0      0       \n",
       "17 day_with_most_followers_gained 0      0       "
      ]
     },
     "metadata": {},
     "output_type": "display_data"
    }
   ],
   "source": [
    "miss_var_summary(data_twitch)"
   ]
  },
  {
   "cell_type": "markdown",
   "id": "76f6a794",
   "metadata": {},
   "source": [
    "Finalizando el primer paso del proyecto correspondiente a la limpieza y carga de datos, podemos ver que no tenemos datos faltantes y podrémos iniciar con el análisis exploratorio.\n",
    "\n",
    "\n",
    "\n",
    "\n",
    "\n"
   ]
  }
 ],
 "metadata": {
  "jupytext": {
   "cell_metadata_filter": "echo,tags,-all",
   "main_language": "R",
   "notebook_metadata_filter": "-all"
  },
  "kernelspec": {
   "display_name": "R",
   "language": "R",
   "name": "ir"
  },
  "language_info": {
   "codemirror_mode": "r",
   "file_extension": ".r",
   "mimetype": "text/x-r-source",
   "name": "R",
   "pygments_lexer": "r",
   "version": "3.6.1"
  }
 },
 "nbformat": 4,
 "nbformat_minor": 5
}
