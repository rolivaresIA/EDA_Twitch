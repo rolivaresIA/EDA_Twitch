{
 "cells": [
  {
   "cell_type": "raw",
   "id": "161bed24",
   "metadata": {
    "lines_to_next_cell": 0
   },
   "source": [
    "---\n",
    "title: \"Análisis exploratorio de datos en Twitch\"\n",
    "output: html_notebook\n",
    "knitr:\n",
    "  opts_chunk:\n",
    "    echo: true   # Mostrar código\n",
    "    message: false # No mostrar mensajes de paquetes cargados\n",
    "    warning: false # No mostrar advertencias\n",
    "---"
   ]
  },
  {
   "cell_type": "markdown",
   "id": "186c5d0d",
   "metadata": {},
   "source": [
    "En la última década, las plataformas de streaming han transformado la manera en que consumimos entretenimiento, ofreciendo un medio interactivo y en tiempo real para conectar a creadores con sus audiencias. Entre estas plataformas, **Twitch** se ha consolidado como el líder indiscutible en la transmisión de contenido en vivo, especialmente en el ámbito de los videojuegos. Durante la pandemia, Twitch experimentó un boom de creadores y espectadores, y mi mejor amigo fue uno de ellos. Empezó como un hobby, transmitiendo juegos y creando una pequeña comunidad que, con el tiempo, ha ido creciendo. Aunque aún no es famoso, sueña con vivir de esto y convertirlo en su carrera.\n",
    "\n",
    "Siempre me ha interesado cómo funciona Twitch, y viendo su esfuerzo diario, decidí ayudarlo. Quiero analizar datos de la plataforma para identificar qué estrategias, comportamientos o patrones pueden hacer que un streamer destaque y crezca más rápido. Mi objetivo es responder a la pregunta: **\"¿De qué forma sería más fácil que mi amigo se haga famoso y pueda vivir de Twitch?\"** y ofrecerle recomendaciones claras basadas en evidencia.\n",
    "\n",
    "<b>El siguiente proyecto se dividirá en 3 secciones:</p></b>\n",
    "<li>Limpieza y carga de datos\n",
    "<li>Análisis exploratorio univariado\n",
    "<li>Análisis exploratorio bivariado </li>\n",
    "\n",
    "<b><h3> Limpieza y Carga de Datos </h3></b>\n",
    "\n",
    "Como primer paso, debemos instalar los paquetes que utilizaremos en este proyecto:"
   ]
  },
  {
   "cell_type": "code",
   "execution_count": null,
   "id": "049e288c",
   "metadata": {},
   "outputs": [],
   "source": [
    "install.packages(c(\"readr\",\"tidyverse\",\"dplyr\",\"naniar\",\"knitr\",\"ggcorrplot\"))"
   ]
  },
  {
   "cell_type": "code",
   "execution_count": null,
   "id": "14acfb97",
   "metadata": {},
   "outputs": [],
   "source": [
    "library(readr)\n",
    "library(tidyverse)\n",
    "library(dplyr)\n",
    "library(naniar)\n",
    "library(knitr)\n",
    "library(ggcorrplot)"
   ]
  },
  {
   "cell_type": "code",
   "execution_count": null,
   "id": "aae14d27",
   "metadata": {
    "lines_to_next_cell": 0,
    "tags": [
     "remove_input"
    ]
   },
   "outputs": [],
   "source": [
    "kable(tabla_descripcion)"
   ]
  },
  {
   "cell_type": "markdown",
   "id": "a0c29045",
   "metadata": {},
   "source": [
    "En este proyecto me voy a enfocar en distintas métricas que permitan responder a la pregunta inicial. Estas serán principalmente el **IDIOMA, JUEGOS MÁS STREMEADOS, DÍAS MÁS ACTIVOS, DURACIÓN PROMEDIO DE STREAMS, SEGUIDORES GANADOS POR STREAM**. Si bien esta data representa el TOP 1000 de Streamers en la plataforma, nos da una visión general del comportamiento y/o tendencias para posteriormente, realizar conclusiones propias."
   ]
  },
  {
   "cell_type": "code",
   "execution_count": null,
   "id": "d68c9abd",
   "metadata": {
    "echo": true
   },
   "outputs": [],
   "source": [
    "data_twitch <- read_csv(\"dataset/datasetV2.csv\")"
   ]
  },
  {
   "cell_type": "code",
   "execution_count": null,
   "id": "8b3c657d",
   "metadata": {
    "echo": true,
    "lines_to_next_cell": 0
   },
   "outputs": [],
   "source": [
    "head(data_twitch, 20)"
   ]
  },
  {
   "cell_type": "code",
   "execution_count": null,
   "id": "f58b8446",
   "metadata": {
    "echo": true,
    "lines_to_next_cell": 0
   },
   "outputs": [],
   "source": [
    "miss_var_summary(data_twitch)"
   ]
  },
  {
   "cell_type": "markdown",
   "id": "485a80cb",
   "metadata": {},
   "source": [
    "Después de analizar a que corresponde cada variable y que información nos van a dar a lo largo del proyecto, vemos que las \"clases\" están definidas correctamente.\n",
    "\n",
    "También se analizan los datos faltantes de nuestra base para decidir que hacer con ellos. En este caso, podemos ver que solo existe una variable con **n_miss** y es la **2ND_MOST_STREAMED_GAME**. Esto tiene sentido, ya que existen streamers que solo se muestran jugando un juego y por ende esta variable quedaría sin información. Para efectos de manipulación de los títulos, los cambiaremos a letras minúsculas y la variable **2ND_MOST_STREAMED_GAME** será modificada solamente por letras.Reemplazaremos los valores faltantes de esta variable por la etiqueta **Sin juego**."
   ]
  },
  {
   "cell_type": "code",
   "execution_count": null,
   "id": "3faa4fa7",
   "metadata": {
    "echo": true,
    "lines_to_next_cell": 0
   },
   "outputs": [],
   "source": [
    "data_twitch <- rename(data_twitch, SECOND_MOST_STREAMED_GAME = `2ND_MOST_STREAMED_GAME`)"
   ]
  },
  {
   "cell_type": "code",
   "execution_count": null,
   "id": "5f5c7375",
   "metadata": {
    "tags": [
     "remove_input"
    ]
   },
   "outputs": [],
   "source": [
    "print(data_twitch)"
   ]
  },
  {
   "cell_type": "code",
   "execution_count": null,
   "id": "f6993bfb",
   "metadata": {
    "echo": true,
    "lines_to_next_cell": 0
   },
   "outputs": [],
   "source": [
    "names(data_twitch) <- str_to_lower(names(data_twitch))"
   ]
  },
  {
   "cell_type": "code",
   "execution_count": null,
   "id": "a2edb088",
   "metadata": {
    "echo": true,
    "lines_to_next_cell": 0
   },
   "outputs": [],
   "source": [
    "data_twitch <- data_twitch %>%\n",
    "  mutate(second_most_streamed_game = replace_na(second_most_streamed_game, \"Sin juego\"))"
   ]
  },
  {
   "cell_type": "code",
   "execution_count": null,
   "id": "6b60b8e2",
   "metadata": {
    "tags": [
     "remove_input"
    ]
   },
   "outputs": [],
   "source": [
    "print(data_twitch)"
   ]
  },
  {
   "cell_type": "markdown",
   "id": "1e9639f5",
   "metadata": {},
   "source": [
    "Corroboramos que se hayan aplicado los cambios y que ya no tenemos valores faltantes:"
   ]
  },
  {
   "cell_type": "code",
   "execution_count": null,
   "id": "b138637d",
   "metadata": {
    "echo": true
   },
   "outputs": [],
   "source": [
    "filtro_sin_juego <- data_twitch %>% \n",
    "  filter(second_most_streamed_game == \"Sin juego\") %>% \n",
    "  group_by(second_most_streamed_game) %>% \n",
    "  summarize(count = n())"
   ]
  },
  {
   "cell_type": "code",
   "execution_count": null,
   "id": "95bca065",
   "metadata": {
    "lines_to_next_cell": 0,
    "tags": [
     "remove_input"
    ]
   },
   "outputs": [],
   "source": [
    "print(filtro_sin_juego)"
   ]
  },
  {
   "cell_type": "code",
   "execution_count": null,
   "id": "97dcc34a",
   "metadata": {
    "echo": true,
    "lines_to_next_cell": 0
   },
   "outputs": [],
   "source": [
    "miss_var_summary(data_twitch)"
   ]
  },
  {
   "cell_type": "markdown",
   "id": "76f6a794",
   "metadata": {},
   "source": [
    "Finalizando el primer paso del proyecto correspondiente a la limpieza y carga de datos, podemos ver que no tenemos datos faltantes y podrémos iniciar con el análisis exploratorio.\n",
    "\n",
    "\n",
    "\n",
    "\n",
    "\n"
   ]
  }
 ],
 "metadata": {
  "jupytext": {
   "cell_metadata_filter": "echo,tags,-all",
   "main_language": "R",
   "notebook_metadata_filter": "-all"
  }
 },
 "nbformat": 4,
 "nbformat_minor": 5
}
