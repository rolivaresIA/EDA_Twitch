{
 "cells": [
  {
   "cell_type": "raw",
   "id": "95ed7259",
   "metadata": {
    "lines_to_next_cell": 0
   },
   "source": [
    "---\n",
    "title: \"Análisis exploratorio de datos en Twitch\"\n",
    "output: html_notebook\n",
    "knitr:\n",
    "  opts_chunk:\n",
    "    echo: true   # Mostrar código\n",
    "    message: false # No mostrar mensajes de paquetes cargados\n",
    "    warning: false # No mostrar advertencias\n",
    "---"
   ]
  },
  {
   "cell_type": "markdown",
   "id": "aa60f62f",
   "metadata": {},
   "source": [
    "<b><h3> Análisis Exploratorio Univariado </h3></b>\n",
    "\n",
    "En esta segunda parte, realizaremos un análisis individual de las variables más importantes o que en primera instancia, podrían resultar como las más relevantes para nuestro estudio. Recordemos que la pregunta a responder de nuestro proyecto es: **¿Cómo puede un streamer, especialmente en sus primeros años, identificar y priorizar las estrategias más efectivas para maximizar su crecimiento y escalar más rápido en Twitch?**\n",
    "\n",
    "A continuación haremos un análisis en las siguientes variables categóricas:\n",
    "\n",
    "- LANGUAGE (IDIOMA)\n",
    "- MOST_STREAMED_GAME (JUEGO MÁS STREMEADO)\n",
    "- MOST_ACTIVE_DAY (DÍA MÁS ACTIVO)"
   ]
  },
  {
   "cell_type": "code",
   "execution_count": null,
   "id": "301c75a4",
   "metadata": {
    "lines_to_next_cell": 0
   },
   "outputs": [],
   "source": [
    "data_proporciones <- data_twitch %>%\n",
    "                      count(language) %>%                          \n",
    "                       mutate(percentage = n / sum(n) * 100)"
   ]
  },
  {
   "cell_type": "code",
   "execution_count": null,
   "id": "b5810783",
   "metadata": {
    "lines_to_next_cell": 2,
    "tags": [
     "remove_input"
    ]
   },
   "outputs": [],
   "source": [
    "print(data_proporciones)"
   ]
  },
  {
   "cell_type": "code",
   "execution_count": null,
   "id": "14f8de8e",
   "metadata": {
    "fig.height": 6,
    "fig.width": 10,
    "tags": [
     "remove_input"
    ]
   },
   "outputs": [],
   "source": [
    "ggplot(data_proporciones, aes(x = reorder(language, -n), y = n)) +\n",
    "  geom_bar(stat = \"identity\", fill = \"purple\", color = \"black\") +\n",
    "  geom_text(aes(label = paste0(round(percentage, 1), \"%\")), \n",
    "            vjust = -0.5,  \n",
    "            size = 3.5) + \n",
    "  labs(title = \"Distribución de Idiomas (Top 1000)\",\n",
    "       x = \"Idioma\",\n",
    "       y = \"Frecuencia\") +\n",
    "  theme(axis.text.x = element_text(angle = 90, hjust = 1))"
   ]
  },
  {
   "cell_type": "markdown",
   "id": "311a253f",
   "metadata": {},
   "source": [
    "Podemos ver que el idioma Inglés es el predominante en nuestra base de datos. Sin embargo, el español representa un 10.6% del top 1000 streamers. Probablemente si tomamos una muestra mayor el porcentaje o comportamiento sería similar. Este dato es muy relevante ya que, hablar inglés aumentaría significativamente nuestras posibilidades de que mi amigo sea famoso, pero como su comunidad es de habla hispana, tendremos que enfocarnos directamente en ese \"filtro\" o bien, recomendar a mi amigo considerar hacer colaboraciones con streamers de habla inglesa. Por ahora nos enfocaremos en analizar las variables que consideramos más importantes, sin tomar en cuenta el idioma pero teniéndolo en cuenta.\n",
    "\n",
    "Podemos ver los juegos más stremeados nos dan algún indicio de donde está el interés de los espectadores."
   ]
  },
  {
   "cell_type": "code",
   "execution_count": null,
   "id": "40f283d8",
   "metadata": {
    "lines_to_next_cell": 0
   },
   "outputs": [],
   "source": [
    "top_veinte_juegos <- data_twitch %>% \n",
    "  count(most_streamed_game) %>% \n",
    "     mutate(percentage = n / sum(n) * 100) %>% \n",
    "        arrange(desc(n)) %>% \n",
    "          head(20)"
   ]
  },
  {
   "cell_type": "code",
   "execution_count": null,
   "id": "f2fd2a54",
   "metadata": {
    "echo": true
   },
   "outputs": [],
   "source": [
    "print(top_veinte_juegos)"
   ]
  },
  {
   "cell_type": "code",
   "execution_count": null,
   "id": "72411c62",
   "metadata": {
    "fig.height": 6,
    "fig.width": 10,
    "lines_to_next_cell": 0,
    "tags": [
     "remove_input"
    ]
   },
   "outputs": [],
   "source": [
    "ggplot(top_veinte_juegos, aes(x = reorder(most_streamed_game, -n), y = n)) +\n",
    "  geom_bar(stat = \"identity\", fill = \"purple\", color = \"black\") +\n",
    "  geom_text(aes(label = paste0(round(percentage, 1), \"%\")), \n",
    "            vjust = -0.5,  \n",
    "            size = 3.5) + \n",
    "  labs(title = \"Juegos más stremeados\",\n",
    "       x = \"Juego\",\n",
    "       y = \"Frecuencia\") +\n",
    "  theme(axis.text.x = element_text(angle = 90, hjust = 1))"
   ]
  },
  {
   "cell_type": "markdown",
   "id": "14f2488e",
   "metadata": {},
   "source": [
    "Curiosamente un **25.7%** de los juegos más stremeados es **Just Chatting**, categoría la cual solamente se habla o se hacen actividades que no están relacionadas con un juego en específico. Ya con una diferencia considerable, posteriormente le siguen **League of Legends, GTA V y Valorant**. Como última variable individual categórica, analizaremos el día con mayor actividad."
   ]
  },
  {
   "cell_type": "code",
   "execution_count": null,
   "id": "f97d1639",
   "metadata": {
    "lines_to_next_cell": 0
   },
   "outputs": [],
   "source": [
    "dias_mas_activos <- data_twitch %>% \n",
    "  count(most_active_day) %>% \n",
    "  mutate(percentage = n / sum(n) * 100) %>% \n",
    "  arrange(desc(n))"
   ]
  },
  {
   "cell_type": "code",
   "execution_count": null,
   "id": "a61c09d7",
   "metadata": {},
   "outputs": [],
   "source": [
    "print(dias_mas_activos)"
   ]
  },
  {
   "cell_type": "code",
   "execution_count": null,
   "id": "43863f52",
   "metadata": {
    "lines_to_next_cell": 0,
    "tags": [
     "remove_input"
    ]
   },
   "outputs": [],
   "source": [
    "ggplot(dias_mas_activos, aes(x = reorder(most_active_day, -n), y = n)) +\n",
    "  geom_bar(stat = \"identity\", fill = \"purple\", color = \"black\") +\n",
    "  geom_text(aes(label = paste0(round(percentage, 1), \"%\")), \n",
    "            vjust = -0.5,  \n",
    "            size = 3.5) + \n",
    "  labs(title = \"Días más activos\",\n",
    "       x = \"Día\",\n",
    "       y = \"Cantidad de streamers\") +\n",
    "  theme(axis.text.x = element_text(angle = 90, hjust = 1))"
   ]
  },
  {
   "cell_type": "markdown",
   "id": "88f56d1e",
   "metadata": {
    "lines_to_next_cell": 0
   },
   "source": [
    "De esto, podemos inferir que los días intermedios de la semana dominan. Días **Martes, Miércoles y Jueves** concentran una gran parte de las observaciones, representando un 50.3% del total. Esto podría reflejar una tendencia a realizar estas actividades en días laborales.\n",
    "\n",
    "A continuación analizaremos las variables numéricas:\n",
    "\n",
    "- AVERAGE_STREAM_DURATION (DURACIÓN PROMEDIO DE STREAM)\n",
    "- FOLLOWERS_GAINED_PER_STREAM (SEGUIDORES GANADOS POR STREAM)\n",
    "- ACTIVE_DAYS_PER_WEEK (DÍAS ACTIVOS POR SEMANA)\n",
    "- TOTAL_TIME_STREAMED (TIEMPO TOTAL STREMEADO)\n",
    "- TOTAL_FOLLOWERS (SEGUIDORES TOTALES)\n",
    "\n",
    "**¿Y porqué analizaremos estas variables?**\n",
    "\n",
    "Analizar estas métricas nos ayudarán a identificar qué comportamientos y características hacen que los streamers crezcan rápidamente. De esto, podremos tener una idea en cómo afecta la cantidad de tiempo transmitido a la cantidad de seguidores ganados por stream, cuántos días a la semana se necesita estar activo para maximizar el crecimiento o si hay una relación entre la duración del stream y el número de seguidores ganados.\n",
    "\n",
    "**1) AVERAGE_STREAM_DURATION (DURACIÓN PROMEDIO DE STREAM)**"
   ]
  },
  {
   "cell_type": "code",
   "execution_count": null,
   "id": "18fb8fcc",
   "metadata": {
    "lines_to_next_cell": 0
   },
   "outputs": [],
   "source": [
    "summary(data_twitch$average_stream_duration)"
   ]
  },
  {
   "cell_type": "code",
   "execution_count": null,
   "id": "15ccf551",
   "metadata": {
    "lines_to_next_cell": 0,
    "tags": [
     "remove_input"
    ]
   },
   "outputs": [],
   "source": [
    "ggplot(data_twitch, aes(x = average_stream_duration)) +\n",
    "  geom_histogram(bins = 30, fill = \"purple\", color = \"black\") +\n",
    "  labs(title = \"Distribución de la Duración Promedio de los Streams\",\n",
    "       x = \"Duración Promedio del Stream (Horas)\",\n",
    "       y = \"Frecuencia\")"
   ]
  },
  {
   "cell_type": "markdown",
   "id": "1efe234d",
   "metadata": {
    "lines_to_next_cell": 0
   },
   "source": [
    "**2) FOLLOWERS_GAINED_PER_STREAM (SEGUIDORES GANADOS POR STREAM)**"
   ]
  },
  {
   "cell_type": "code",
   "execution_count": null,
   "id": "732f063f",
   "metadata": {
    "lines_to_next_cell": 0
   },
   "outputs": [],
   "source": [
    "summary(data_twitch$followers_gained_per_stream)"
   ]
  },
  {
   "cell_type": "code",
   "execution_count": null,
   "id": "7458f97d",
   "metadata": {
    "lines_to_next_cell": 0,
    "tags": [
     "remove_input"
    ]
   },
   "outputs": [],
   "source": [
    "ggplot(data_twitch, aes(x = followers_gained_per_stream)) +\n",
    "  geom_histogram(bins = 30, fill = \"purple\", color = \"black\") +\n",
    "  labs(title = \"Distribución de Seguidores Ganados por Stream\",\n",
    "       x = \"Seguidores Ganados por Stream\",\n",
    "       y = \"Frecuencia\")"
   ]
  },
  {
   "cell_type": "markdown",
   "id": "ca757f74",
   "metadata": {
    "lines_to_next_cell": 0
   },
   "source": [
    "**3) ACTIVE_DAYS_PER_WEEK (DÍAS ACTIVOS POR SEMANA)**"
   ]
  },
  {
   "cell_type": "code",
   "execution_count": null,
   "id": "3a7324bb",
   "metadata": {
    "lines_to_next_cell": 0
   },
   "outputs": [],
   "source": [
    "summary(data_twitch$active_days_per_week)"
   ]
  },
  {
   "cell_type": "code",
   "execution_count": null,
   "id": "a0af30ce",
   "metadata": {
    "lines_to_next_cell": 0,
    "tags": [
     "remove_input"
    ]
   },
   "outputs": [],
   "source": [
    "ggplot(data_twitch, aes(x = active_days_per_week)) +\n",
    "  geom_histogram(binwidth = 1, fill = \"purple\", color = \"black\") +\n",
    "  scale_x_continuous(breaks = seq(0, 7, by = 1)) +\n",
    "  labs(title = \"Distribución de días activos por semana (con redondeo)\",\n",
    "       x = \"Promedio de días activos\",\n",
    "       y = \"Cantidad de streamers\")"
   ]
  },
  {
   "cell_type": "markdown",
   "id": "7d72f789",
   "metadata": {
    "lines_to_next_cell": 0
   },
   "source": [
    "**4) TOTAL_TIME_STREAMED (TIEMPO TOTAL STREMEADO)**"
   ]
  },
  {
   "cell_type": "code",
   "execution_count": null,
   "id": "0a3707fa",
   "metadata": {
    "lines_to_next_cell": 0
   },
   "outputs": [],
   "source": [
    "summary(data_twitch$total_time_streamed)"
   ]
  },
  {
   "cell_type": "markdown",
   "id": "605673b4",
   "metadata": {
    "lines_to_next_cell": 0
   },
   "source": [
    "**5) TOTAL_FOLLOWERS (SEGUIDORES TOTALES)**"
   ]
  },
  {
   "cell_type": "code",
   "execution_count": null,
   "id": "d7c391c0",
   "metadata": {
    "lines_to_next_cell": 0
   },
   "outputs": [],
   "source": [
    "summary(data_twitch$total_followers)"
   ]
  },
  {
   "cell_type": "markdown",
   "id": "5cfbade0",
   "metadata": {},
   "source": [
    "Este análisis univariado y exploratorio inicial nos permite identificar variables clave para ayudar a mi amigo a crecer en Twitch. Las variables categóricas muestran que el idioma, los juegos populares y los días activos pueden influir en la visibilidad. Las variables numéricas nos muestran distribuciones, valores medios y técnicas o comportamientos que utilizan los mejores creadores de contenido en Twitch que serviriían eventualmente a mi amigo, para replicar. \n",
    "\n",
    "Si bien, este análisis aún no nos garantiza que el hecho de aumentar la frecuencia de transmisiones o el tiempo total transmitido contribuye al crecimiento del canal, podría darnos la idea de que sí. Por ahora, y de este análisis inicial podemos decir que mi amigo, por el hecho de tener una comunidad de habla hispana tiene que maximizar su visibilidad desde todos los aspectos posibles, ya que en este caso, está en desventaja.\n",
    "\n",
    "Pero como dijo Nico Massú... <b>NADA ES IMPOSIBLE #\"$%@, NI UNA  #%@</b>, así que a continuación exploraremos las variables en conjunto con el filtro del idioma \"Español\".\n",
    "\n",
    "\n"
   ]
  }
 ],
 "metadata": {
  "jupytext": {
   "cell_metadata_filter": "fig.width,fig.height,echo,tags,-all",
   "main_language": "R",
   "notebook_metadata_filter": "-all"
  }
 },
 "nbformat": 4,
 "nbformat_minor": 5
}
