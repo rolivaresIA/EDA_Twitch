{
 "cells": [
  {
   "cell_type": "code",
   "execution_count": 5,
   "id": "5b299e43-18fd-49b7-bf00-93df93f41e67",
   "metadata": {
    "vscode": {
     "languageId": "r"
    }
   },
   "outputs": [],
   "source": [
    "data <- data.frame(\n",
    "  Categoria = c(\"A\", \"B\", \"C\", \"D\"),\n",
    "  Valor = c(23, 17, 35, 29)\n",
    ")"
   ]
  },
  {
   "cell_type": "code",
   "execution_count": null,
   "id": "0af22639-8e8b-42aa-8590-f0dac950776b",
   "metadata": {
    "scrolled": true,
    "vscode": {
     "languageId": "r"
    }
   },
   "outputs": [
    {
     "data": {
      "text/html": [
       "<table class=\"dataframe\">\n",
       "<caption>A data.frame: 4 × 2</caption>\n",
       "<thead>\n",
       "\t<tr><th scope=col>Categoria</th><th scope=col>Valor</th></tr>\n",
       "\t<tr><th scope=col>&lt;chr&gt;</th><th scope=col>&lt;dbl&gt;</th></tr>\n",
       "</thead>\n",
       "<tbody>\n",
       "\t<tr><td>A</td><td>23</td></tr>\n",
       "\t<tr><td>B</td><td>17</td></tr>\n",
       "\t<tr><td>C</td><td>35</td></tr>\n",
       "\t<tr><td>D</td><td>29</td></tr>\n",
       "</tbody>\n",
       "</table>\n"
      ],
      "text/latex": [
       "A data.frame: 4 × 2\n",
       "\\begin{tabular}{ll}\n",
       " Categoria & Valor\\\\\n",
       " <chr> & <dbl>\\\\\n",
       "\\hline\n",
       "\t A & 23\\\\\n",
       "\t B & 17\\\\\n",
       "\t C & 35\\\\\n",
       "\t D & 29\\\\\n",
       "\\end{tabular}\n"
      ],
      "text/markdown": [
       "\n",
       "A data.frame: 4 × 2\n",
       "\n",
       "| Categoria &lt;chr&gt; | Valor &lt;dbl&gt; |\n",
       "|---|---|\n",
       "| A | 23 |\n",
       "| B | 17 |\n",
       "| C | 35 |\n",
       "| D | 29 |\n",
       "\n"
      ],
      "text/plain": [
       "  Categoria Valor\n",
       "1 A         23   \n",
       "2 B         17   \n",
       "3 C         35   \n",
       "4 D         29   "
      ]
     },
     "metadata": {},
     "output_type": "display_data"
    }
   ],
   "source": [
    "data"
   ]
  },
  {
   "cell_type": "code",
   "execution_count": 7,
   "id": "982cfc75-ad8a-4110-8645-0f3d7574da99",
   "metadata": {
    "jupyter": {
     "source_hidden": true
    },
    "vscode": {
     "languageId": "r"
    }
   },
   "outputs": [
    {
     "data": {
      "image/png": "[encoded data removed]",
      "text/plain": [
       "plot without title"
      ]
     },
     "metadata": {
      "image/png": {
       "height": 420,
       "width": 420
      }
     },
     "output_type": "display_data"
    }
   ],
   "source": [
    "ggplot(data, aes(x=Categoria, y=Valor, fill=Categoria)) +\n",
    "  geom_bar(stat=\"identity\") +\n",
    "  theme_minimal() +\n",
    "  labs(title=\"Gráfico de Barras de Ejemplo\", x=\"Categoría\", y=\"Valor\")"
   ]
  }
 ],
 "metadata": {
  "kernelspec": {
   "display_name": "R",
   "language": "R",
   "name": "ir"
  },
  "language_info": {
   "codemirror_mode": "r",
   "file_extension": ".r",
   "mimetype": "text/x-r-source",
   "name": "R",
   "pygments_lexer": "r",
   "version": "4.3.0"
  }
 },
 "nbformat": 4,
 "nbformat_minor": 5
}
