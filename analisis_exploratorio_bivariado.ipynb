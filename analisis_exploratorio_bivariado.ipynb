{
 "cells": [
  {
   "cell_type": "raw",
   "id": "a9ab4b06",
   "metadata": {
    "lines_to_next_cell": 0
   },
   "source": [
    "---\n",
    "title: \"Análisis exploratorio de datos en Twitch\"\n",
    "output: html_notebook\n",
    "knitr:\n",
    "  opts_chunk:\n",
    "    echo: true   # Mostrar código\n",
    "    message: false # No mostrar mensajes de paquetes cargados\n",
    "    warning: false # No mostrar advertencias\n",
    "---"
   ]
  },
  {
   "cell_type": "markdown",
   "id": "d7935c97",
   "metadata": {},
   "source": [
    "<b><h3> Análisis Exploratorio Bivariado </h3></b>\n",
    "\n",
    "Como se mencionó anteriormente, primero filtraremos por el idioma español y veremos los juegos más stremeados para este grupo:"
   ]
  },
  {
   "cell_type": "code",
   "execution_count": null,
   "id": "b9b7806f",
   "metadata": {
    "lines_to_next_cell": 0
   },
   "outputs": [],
   "source": [
    "data_twitch_es <- data_twitch %>%\n",
    "  filter(language == \"Spanish\")"
   ]
  },
  {
   "cell_type": "code",
   "execution_count": null,
   "id": "ef861f4e",
   "metadata": {
    "lines_to_next_cell": 0
   },
   "outputs": [],
   "source": [
    "most_streamed_games_es <- data_twitch_es %>%\n",
    "  group_by(most_streamed_game) %>%\n",
    "    summarise(count = n()) %>%\n",
    "     arrange(desc(count)) %>%\n",
    "       mutate(percentage = (count / sum(count)) * 100)"
   ]
  },
  {
   "cell_type": "code",
   "execution_count": null,
   "id": "b2083704",
   "metadata": {
    "tags": [
     "remove_input"
    ]
   },
   "outputs": [],
   "source": [
    "print(most_streamed_games_es)"
   ]
  },
  {
   "cell_type": "code",
   "execution_count": null,
   "id": "1add6d9c",
   "metadata": {
    "fig.height": 6,
    "fig.width": 10,
    "lines_to_next_cell": 0,
    "tags": [
     "remove_input"
    ]
   },
   "outputs": [],
   "source": [
    "library(RColorBrewer)\n",
    "\n",
    "colors_purples <- rep(brewer.pal(9, \"Purples\"), length.out = 27)\n",
    "\n",
    "ggplot(most_streamed_games_es, aes(x = reorder(most_streamed_game, -count), \n",
    "                                   y = count, fill = most_streamed_game)) +\n",
    "  geom_bar(stat = \"identity\", alpha = 0.8, color = \"black\") +\n",
    "  geom_text(aes(label = paste0(round(percentage, 1), \"%\")), vjust = -0.5, size = 3.5) +\n",
    "  labs(title = \"Juegos más streameados en español\",\n",
    "       x = \"Juego\",\n",
    "       y = \"Cantidad de streamers\") +\n",
    "  theme(axis.text.x = element_text(angle = 45, hjust = 1)) +\n",
    "  theme(legend.position = \"none\") +\n",
    "  scale_fill_manual(values = colors_purples)"
   ]
  },
  {
   "cell_type": "markdown",
   "id": "3f8b7f18",
   "metadata": {},
   "source": [
    "A diferencia de los juegos más jugados en la base de datos completa, vemos que en la comunidad de habla hispana cambia un poco. Sin embargo, la categoría de **Just Chatting** sigue siendo el primer lugar, por lo que podemos deducir que a la gente también le llama la atención actividades no sólo relacionadas a los juegos.\n",
    "\n",
    "A continuación analizaremos la variable de **seguidores ganados por stream** en los juegos más stremeados de la comunidad hispana, de tal forma de ver cuales juegos generan un mayor **engagement** y así tener esta información en consideración."
   ]
  },
  {
   "cell_type": "code",
   "execution_count": null,
   "id": "e71df654",
   "metadata": {
    "lines_to_next_cell": 0
   },
   "outputs": [],
   "source": [
    "followers_per_game_es <- data_twitch_es %>%\n",
    "                          group_by(most_streamed_game) %>%\n",
    "                          summarise(mean_followers = mean(followers_gained_per_stream, na.rm = TRUE),\n",
    "                          count = n()) %>%\n",
    "                          arrange(desc(mean_followers))"
   ]
  },
  {
   "cell_type": "code",
   "execution_count": null,
   "id": "991cde9d",
   "metadata": {
    "tags": [
     "remove_input"
    ]
   },
   "outputs": [],
   "source": [
    "print(followers_per_game_es)"
   ]
  },
  {
   "cell_type": "code",
   "execution_count": null,
   "id": "b3e25528",
   "metadata": {
    "fig.height": 6,
    "fig.width": 10,
    "lines_to_next_cell": 0,
    "tags": [
     "remove_input"
    ]
   },
   "outputs": [],
   "source": [
    "ggplot(followers_per_game_es, aes(x = reorder(most_streamed_game, -mean_followers), \n",
    "                                  y = mean_followers, fill = mean_followers)) +\n",
    "  geom_bar(stat = \"identity\", alpha = 0.8, color = \"black\") +\n",
    "  labs(title = \"Media de seguidores ganados por juego en español\",\n",
    "       x = \"Juego más streameado\",\n",
    "       y = \"Media de seguidores ganados por stream\") +\n",
    "  theme(axis.text.x = element_text(angle = 45, hjust = 1)) +\n",
    "  theme(legend.position = \"none\") +\n",
    "  scale_fill_gradient(low = \"#E0E0F7\", high = \"#4A148C\")"
   ]
  },
  {
   "cell_type": "markdown",
   "id": "3f7f576d",
   "metadata": {
    "lines_to_next_cell": 0
   },
   "source": [
    "Este gráfico nos muestra la media de seguidores ganados por juego, lo que nos da una idea del nivel promedio de **engagement** para cada juego, sin embargo, esta media puede estar influenciada por valores atípicos, pocas observaciones como lo es en el los casos de categorías como **Music, FIFA 21, Warframe** y aquellos que tienen solo una observación, etc. Para esto analizamos un boxplot:"
   ]
  },
  {
   "cell_type": "code",
   "execution_count": null,
   "id": "6ba38b41",
   "metadata": {
    "lines_to_next_cell": 0
   },
   "outputs": [],
   "source": [
    "followers_per_game_es_full <- data_twitch_es %>%\n",
    "  select(most_streamed_game, followers_gained_per_stream)"
   ]
  },
  {
   "cell_type": "code",
   "execution_count": null,
   "id": "15d8a608",
   "metadata": {
    "tags": [
     "remove_input"
    ]
   },
   "outputs": [],
   "source": [
    "print(followers_per_game_es_full)"
   ]
  },
  {
   "cell_type": "code",
   "execution_count": null,
   "id": "0f645425",
   "metadata": {
    "fig.height": 6,
    "fig.width": 10,
    "lines_to_next_cell": 0,
    "tags": [
     "remove_input"
    ]
   },
   "outputs": [],
   "source": [
    "ggplot(followers_per_game_es_full, aes(x = reorder(most_streamed_game, -followers_gained_per_stream, FUN = median), \n",
    "                                       y = followers_gained_per_stream)) +\n",
    "  geom_boxplot(fill = \"purple\") +\n",
    "  labs(title = \"Distribución de seguidores ganados por juego en español\",\n",
    "       x = \"Juego más streameado\",\n",
    "       y = \"Seguidores ganados por stream\") +\n",
    "  theme(axis.text.x = element_text(angle = 45, hjust = 1))"
   ]
  },
  {
   "cell_type": "markdown",
   "id": "efd6eb86",
   "metadata": {
    "lines_to_next_cell": 0
   },
   "source": [
    "Teniendo en consideración los gráficos anteriores, descartaremos o diremos que aquellos juegos con sólo una observación serán consideradas opciones secundarias. Dado esto, podemos ver que juegos como **Just Chatting, Grand Theft Auto V, Minecraft o League of Legends** son opciones interesantes a profundizar. \n",
    "\n",
    "Para el caso de **Minecraft**, que es el con mayor media de seguidores ganados, vemos que la mediana se encuentra en la parte inferior del boxplot. Esto significa que la mayoría de los valores del IQR se encuentran concentrados en la parte inferior y la parte superior del IQR es más dispersa. En resumen, aunque la mayoría de los streamers tienen resultados \"bajos\" (mediana baja), algunos logran valores significativamente mayores. Este juego podría ser atractivo como una **oportunidad**, pero mi amigo debe aprender de los streamers que logran resultados altos para generar un mayor engagement.\n",
    "\n",
    "Por otro lado, en el caso de **Grand Theft Auto V** la mayoría de streamers suele ganar una cantidad considerable de seguidores ya que la mediana se encuentra en la parte superior del IQR. Sin embargo, el hecho de que GTA V tenga una mediana alta y una caja larga significa que, en general, este juego genera un buen nivel de engagement, pero con una alta variabilidad entre los streamers.\n",
    "\n",
    "Finalmente, **Just Chatting o League of Legends** tienen medianas similares y varias observaciones, por lo que en general los streamers de estos contenidos tienen una buena ganancia de seguidores y podrían ser opciones \"seguras\". Aunque hay diferencias en su variabilidad y existen algunos streamers que no generan buen engagement, podriamos decir que las estrategias en este contenido son claves."
   ]
  },
  {
   "cell_type": "code",
   "execution_count": null,
   "id": "1b511f1b",
   "metadata": {
    "lines_to_next_cell": 0,
    "tags": [
     "remove_input"
    ]
   },
   "outputs": [],
   "source": [
    "top_games_by_day_viewers <- data_twitch_es %>%\n",
    "  group_by(most_active_day, most_streamed_game) %>%\n",
    "  summarise(total_viewers = sum(avg_viewers_per_stream, na.rm = TRUE)) %>%\n",
    "  arrange(most_active_day, desc(total_viewers)) %>%\n",
    "  group_by(most_active_day) %>%\n",
    "  slice_head(n = 5) \n",
    "\n",
    "top_games_by_day_viewers$most_active_day <- factor(top_games_by_day_viewers$most_active_day, levels = c(\"Monday\", \"Tuesday\", \"Wednesday\", \"Thursday\", \"Friday\", \"Saturday\", \"Sunday\"))\n",
    "\n",
    "custom_palette <- c(\"#8682bd\", \"#4c3f77\", \"#7c587f\", \"#a4bcbc\", \"#051126\",\n",
    "  \"purple\", \"#007f97\", \"#f3f6e9\", \"#bcd8f9\", \"#5c87ba\",\n",
    "  \"#6c5397\", \"#8d6cb1\", \"#4a2b7e\", \"#2e4277\", \"#abc4b8\",\n",
    "  \"#f4b2c1\", \"#ad99d5\", \"#639eaf\", \"#95d0d1\", \"#3e5b82\")"
   ]
  },
  {
   "cell_type": "code",
   "execution_count": null,
   "id": "6f08fece",
   "metadata": {
    "fig.height": 6,
    "fig.width": 10,
    "lines_to_next_cell": 0,
    "tags": [
     "remove_input"
    ]
   },
   "outputs": [],
   "source": [
    "ggplot(top_games_by_day_viewers, aes(x = most_active_day, y = total_viewers, fill = most_streamed_game)) +\n",
    "  geom_bar(stat = \"identity\", position = \"dodge\") +\n",
    "  labs(title = \"Top 5 Juegos Más Jugados por Día con Más Espectadores\",\n",
    "       x = \"Día de la Semana\",\n",
    "       y = \"Total de Espectadores\",\n",
    "       fill = \"Juego\") +\n",
    "  scale_fill_manual(values = custom_palette) +  # Aplicar la paleta personalizada\n",
    "  theme_minimal() +\n",
    "  theme(axis.text.x = element_text(angle = 45, hjust = 1),\n",
    "        plot.title = element_text(size = 16, face = \"bold\", hjust = 0.5),\n",
    "        legend.position = \"bottom\")"
   ]
  },
  {
   "cell_type": "markdown",
   "id": "f1523d6e",
   "metadata": {
    "lines_to_next_cell": 0
   },
   "source": [
    "Ya para terminar el análisis de la variable catégorica relacionada a los juegos, con este gráfico más la información obtenida anteriormente, podríamos hacer un esquema de que juegos podría mi amigo stremear dependiendo del día e interéses del público.\n",
    "\n",
    "Categorías como, **Just Chatting**, **League of Legends**, **Grand Theft Auto V** y **Minecraft** se repiten nuevamente, por lo que sin duda son las que principalmente agregaremos a nuestra recomendación."
   ]
  },
  {
   "cell_type": "code",
   "execution_count": null,
   "id": "42cb132c",
   "metadata": {
    "lines_to_next_cell": 0,
    "tags": [
     "remove_input"
    ]
   },
   "outputs": [],
   "source": [
    "dias_mas_activos_es <- data_twitch_es %>%\n",
    "  count(most_active_day) %>%\n",
    "  arrange(desc(n)) %>% \n",
    "  mutate(percentage = n / sum(n) * 100)"
   ]
  },
  {
   "cell_type": "code",
   "execution_count": null,
   "id": "efad2582",
   "metadata": {
    "fig.height": 6,
    "fig.width": 10,
    "lines_to_next_cell": 0,
    "tags": [
     "remove_input"
    ]
   },
   "outputs": [],
   "source": [
    "ggplot(dias_mas_activos_es, aes(x = reorder(most_active_day, -n), y = n)) +\n",
    "  geom_bar(stat = \"identity\", fill = \"#4A148C\", color = \"black\") +\n",
    "  geom_text(aes(label = paste0(round(percentage, 1), \"%\")), \n",
    "            vjust = -0.5,  \n",
    "            size = 3.5) + \n",
    "  labs(title = \"Días más activos en la Comunidad Hispana\",\n",
    "       x = \"Día\",\n",
    "       y = \"Cantidad de Streamers\") +\n",
    "  theme(axis.text.x = element_text(angle = 90, hjust = 1))"
   ]
  },
  {
   "cell_type": "markdown",
   "id": "fd8568fb",
   "metadata": {
    "lines_to_next_cell": 0
   },
   "source": [
    "Adicionalmente, vemos que los días más activos son los **Martes, Miércoles y Domingo**, a diferencia de cuando se consideraba el total de la base que era los **Martes, Miércoles y Jueves**. Esto, se refiere directamente a los días que los **Streamers** de habla hispana se encuentran más activos.\n",
    "\n",
    "A continuación, analizaremos los días que hay mayor actividad por parte de los **Viewers**:"
   ]
  },
  {
   "cell_type": "code",
   "execution_count": null,
   "id": "10e0a6ee",
   "metadata": {
    "lines_to_next_cell": 0,
    "tags": [
     "remove_input"
    ]
   },
   "outputs": [],
   "source": [
    "views_por_dia <- data_twitch_es %>%\n",
    "  group_by(most_active_day) %>%\n",
    "  summarise(total_views = sum(total_views, na.rm = TRUE)) %>%\n",
    "  arrange(desc(total_views))\n",
    "\n",
    "views_por_dia <- views_por_dia %>%\n",
    "  mutate(total_views_millions = total_views / 1e6)"
   ]
  },
  {
   "cell_type": "code",
   "execution_count": null,
   "id": "bce50619",
   "metadata": {
    "tags": [
     "remove_input"
    ]
   },
   "outputs": [],
   "source": [
    "print(views_por_dia)"
   ]
  },
  {
   "cell_type": "code",
   "execution_count": null,
   "id": "b56a468d",
   "metadata": {
    "fig.height": 6,
    "fig.width": 10,
    "lines_to_next_cell": 0,
    "tags": [
     "remove_input"
    ]
   },
   "outputs": [],
   "source": [
    "ggplot(views_por_dia, aes(x = reorder(most_active_day, -total_views), \n",
    "                          y = total_views_millions)) +\n",
    "  geom_bar(stat = \"identity\", fill = \"#4A148C\", color = \"black\") +\n",
    "  geom_text(aes(label = paste0(round(total_views_millions, 2), \"M\")),  # Etiquetas en millones\n",
    "            vjust = -0.5, \n",
    "            size = 3.5) + \n",
    "  labs(title = \"Días con Más Views en la Comunidad Hispana\",\n",
    "       x = \"Día\",\n",
    "       y = \"Total de Views (en millones)\") +\n",
    "  theme_minimal() +\n",
    "  theme(axis.text.x = element_text(angle = 45, hjust = 1))"
   ]
  },
  {
   "cell_type": "code",
   "execution_count": null,
   "id": "e4e7115d",
   "metadata": {},
   "outputs": [],
   "source": [
    "dias_mas_seguidores_es <- data_twitch_es %>%\n",
    "  count(day_with_most_followers_gained) %>%\n",
    "  arrange(desc(n))"
   ]
  },
  {
   "cell_type": "code",
   "execution_count": null,
   "id": "35bd307b",
   "metadata": {
    "lines_to_next_cell": 2
   },
   "outputs": [],
   "source": [
    "head(dias_mas_seguidores_es, 7)"
   ]
  },
  {
   "cell_type": "code",
   "execution_count": null,
   "id": "32a36132",
   "metadata": {
    "fig.height": 6,
    "fig.width": 10,
    "lines_to_next_cell": 0,
    "tags": [
     "remove_input"
    ]
   },
   "outputs": [],
   "source": [
    "ggplot(dias_mas_seguidores_es, aes(x = reorder(day_with_most_followers_gained, -n), \n",
    "                                y = n)) +\n",
    "  geom_bar(stat = \"identity\", fill = \"#4A148C\", color = \"black\") +\n",
    "  geom_text(aes(label = n), \n",
    "            vjust = -0.5, \n",
    "            size = 3.5) + \n",
    "  labs(title = \"Días con Mayores Seguidores Ganados en la Comunidad Hispana\",\n",
    "       x = \"Día\",\n",
    "       y = \"Número de Streams\") +\n",
    "  theme_minimal() +\n",
    "  theme(axis.text.x = element_text(angle = 45, hjust = 1))"
   ]
  },
  {
   "cell_type": "markdown",
   "id": "80d20571",
   "metadata": {
    "lines_to_next_cell": 0
   },
   "source": [
    "Por otra parte, pero de la mano con lo anterior, los días con mas **Viewers o Espectadores** son los **Miércoles**. Y los días con mayores ocurrencias en máximos de seguidores ganados son los **Domingos**. Aunque quizás los días con mayores seguidores ganados no nos dan mucha información, ya que estos son valores únicos por cada Streamer y este puede depender de muchos factores. Lo que si resulta algo llamativo, es que casi el 50% de los streamers haya conseguido su máximo de seguidores en un stream, un día **Domingo o Lunes**."
   ]
  },
  {
   "cell_type": "code",
   "execution_count": null,
   "id": "c5b75438",
   "metadata": {
    "lines_to_next_cell": 0,
    "tags": [
     "remove_input"
    ]
   },
   "outputs": [],
   "source": [
    "merged_data <- views_por_dia %>%\n",
    "  left_join(dias_mas_activos_es, by = c(\"most_active_day\" = \"most_active_day\")) %>%\n",
    "  left_join(dias_mas_seguidores_es, by = c(\"most_active_day\" = \"day_with_most_followers_gained\"))\n",
    "\n",
    "merged_data <- merged_data %>%\n",
    "  rename(\n",
    "    total_views = total_views,  \n",
    "    streamers = n.x,           \n",
    "    followers_gained = n.y)"
   ]
  },
  {
   "cell_type": "code",
   "execution_count": null,
   "id": "b8f4d692",
   "metadata": {
    "lines_to_next_cell": 0,
    "tags": [
     "remove_input"
    ]
   },
   "outputs": [],
   "source": [
    "merged_data_filtered <- merged_data %>%\n",
    "  select(most_active_day, total_views, streamers, followers_gained)\n",
    "\n",
    "merged_data_long <- merged_data_filtered %>%\n",
    "  pivot_longer(cols = c(total_views, streamers, followers_gained), \n",
    "               names_to = \"metric\", \n",
    "               values_to = \"value\")\n",
    "\n",
    "merged_data_long <- merged_data_long %>%\n",
    "  group_by(metric) %>%\n",
    "  mutate(value_normalized = (value - min(value)) / (max(value) - min(value))) %>%\n",
    "  ungroup()\n",
    "\n",
    "head(merged_data_long)"
   ]
  },
  {
   "cell_type": "code",
   "execution_count": null,
   "id": "8d6cd1e1",
   "metadata": {
    "fig.height": 6,
    "fig.width": 10,
    "lines_to_next_cell": 0,
    "tags": [
     "remove_input"
    ]
   },
   "outputs": [],
   "source": [
    "ggplot(merged_data_long, aes(x = most_active_day, y = value_normalized, fill = metric)) +\n",
    "  geom_bar(stat = \"identity\", position = \"dodge\") +  # Se usa dodge para separar las barras\n",
    "  labs(title = \"Análisis Comparativo: Días Más Activos, Views y Seguidores\",\n",
    "       x = \"Día de la Semana\",\n",
    "       y = \"Valor Normalizado\",\n",
    "       fill = \"Métrica\") +\n",
    "  scale_fill_manual(values = c(\"total_views\" = \"#051126\", \"streamers\" = \"purple\", \"followers_gained\" = \"#c6bed8\")) +\n",
    "  theme_minimal() +\n",
    "  theme(axis.text.x = element_text(angle = 45, hjust = 1)) "
   ]
  },
  {
   "cell_type": "markdown",
   "id": "35089c42",
   "metadata": {
    "lines_to_next_cell": 0
   },
   "source": [
    "Según mi parecer acá las variables que más importan son los días que más stremean los creadores de contenido (Streamers), y los días con mayores vistas (Viewers). Como recomendación a mi amigo le diría de enfocar su energía los días **Miércoles, Jueves y Domingo**.\n",
    "\n",
    "Por otra parte, y ya habiendo realizado un análisis bivariado entre las variables categóricas más relevantes, realizaremos un análisis de las variables numéricas mediante una matriz de confusión. Esto, con el objetivo de ver la correlación entre las distintas variables y comprobar si nuestras hipótesis planteadas anteriormente son o no respaldadas con evidencia."
   ]
  },
  {
   "cell_type": "code",
   "execution_count": null,
   "id": "86520bb8",
   "metadata": {
    "lines_to_next_cell": 0
   },
   "outputs": [],
   "source": [
    "variables_numericas <- data_twitch %>%\n",
    "  select_if(is.numeric)"
   ]
  },
  {
   "cell_type": "code",
   "execution_count": null,
   "id": "9b7ae5b3",
   "metadata": {},
   "outputs": [],
   "source": [
    "correlation_matrix <- cor(variables_numericas, use = \"complete.obs\")"
   ]
  },
  {
   "cell_type": "code",
   "execution_count": null,
   "id": "65b79702",
   "metadata": {
    "fig.height": 6,
    "fig.width": 10,
    "lines_to_next_cell": 0,
    "tags": [
     "remove_input"
    ]
   },
   "outputs": [],
   "source": [
    "corrplot::corrplot(correlation_matrix, \n",
    "         method = \"color\",          # Método de visualización\n",
    "         col = colorRampPalette(c(\"red\", \"white\", \"purple\"))(200),  # Paleta de colores\n",
    "         type = \"lower\",            # Muestra solo la parte inferior de la matriz\n",
    "         order = \"hclust\",          # Ordena las variables según jerarquía\n",
    "         tl.cex = 0.8,              # Tamaño de las etiquetas de las variables\n",
    "         tl.col = \"black\",          # Color de las etiquetas\n",
    "         cl.cex = 0.8,              # Tamaño de la leyenda\n",
    "         title = \"Matriz de Correlación\", # Título del gráfico\n",
    "         mar = c(0, 0, 1, 0),       # Ajuste de márgenes\n",
    "         addCoef.col = \"black\",     # Agregar los valores de correlación en negro\n",
    "         number.cex = 0.7,          # Ajusta el tamaño del texto de los números\n",
    "         diag = FALSE)   "
   ]
  },
  {
   "cell_type": "markdown",
   "id": "025771bb",
   "metadata": {},
   "source": [
    "De la matriz de correlación podemos ver que **NO** hay variables numéricas con correlación alta. Sin embargo, variables en un rango de **0.5 a 0.7** serían consideradas **moderadas** y es donde pondremos enfoque.\n",
    "\n",
    "Correlaciones tales como:\n",
    "\n",
    "- **total_views** con **avg_viewers_per_stream:** 0.57\n",
    "- **total_views** con **total_followers:** 0.65\n",
    "- **active_days_per_week** con **total_time_streamed:** 0.57\n",
    "- **total_games_streamed** con **avg_games_per_stream:** 0.54\n"
   ]
  },
  {
   "cell_type": "code",
   "execution_count": null,
   "id": "0a3c8208",
   "metadata": {
    "fig.height": 6,
    "fig.width": 10,
    "lines_to_next_cell": 0,
    "tags": [
     "remove_input"
    ],
    "warning": false
   },
   "outputs": [],
   "source": [
    "ggplot(data_twitch_es, aes(x = total_views, y = avg_viewers_per_stream)) +\n",
    "  geom_point(aes(color = avg_viewers_per_stream), size = 3, alpha = 0.7) +\n",
    "  scale_color_viridis_c(option = \"magma\") + # Escala de colores atractiva\n",
    "  geom_smooth(method = \"lm\", color = \"blue\", linetype = \"dashed\", size = 1) +\n",
    "  labs(title = \"Relación entre Vistas Totales y Promedio de Espectadores por Stream\",\n",
    "       x = \"Vistas Totales\",\n",
    "       y = \"Promedio de Espectadores por Stream\") +\n",
    "  theme_minimal() +\n",
    "  theme(plot.title = element_text(size = 15, face = \"bold\", hjust = 0.5),\n",
    "        plot.caption = element_text(size = 8, hjust = 1),\n",
    "        axis.title.x = element_text(margin = margin(t = 20)),\n",
    "        axis.title.y = element_text(margin = margin(r = 20)))"
   ]
  },
  {
   "cell_type": "code",
   "execution_count": null,
   "id": "4e272452",
   "metadata": {
    "fig.height": 6,
    "fig.width": 10,
    "lines_to_next_cell": 0,
    "tags": [
     "remove_input"
    ]
   },
   "outputs": [],
   "source": [
    "ggplot(data_twitch_es, aes(x = total_views, y = total_followers)) +\n",
    "  geom_point(aes(color = total_followers), size = 3, alpha = 0.7) +\n",
    "  scale_color_viridis_c(option = \"magma\") +\n",
    "  geom_smooth(method = \"lm\", color = \"blue\", linetype = \"dashed\", size = 1) +\n",
    "  labs(title = \"Relación entre Vistas Totales y Seguidores Totales\",\n",
    "       x = \"Vistas Totales\",\n",
    "       y = \"Seguidores Totales\") +\n",
    "  theme_minimal() +\n",
    "  theme(plot.title = element_text(size = 15, face = \"bold\", hjust = 0.5),\n",
    "        plot.caption = element_text(size = 8, hjust = 1),\n",
    "        axis.title.x = element_text(margin = margin(t = 20)),\n",
    "        axis.title.y = element_text(margin = margin(r = 20)))"
   ]
  },
  {
   "cell_type": "markdown",
   "id": "f7f3c8e4",
   "metadata": {
    "lines_to_next_cell": 0
   },
   "source": [
    "Estos gráficos analizan la correlación de la variable Vistas Totales (total_views) con el Promedio de Espectadores por Stream y Seguidores Totales, respectivamente. \n",
    "\n",
    "En ambos, a medida que aumenta el total de views, el promedio de espectadores por stream y seguidores totales también tiende a aumentar, aunque no de manera perfecta. Esto tiene sentido, ya que los streams con más vistas probablemente atraen más espectadores por transmisión, lo que se ve reflejado en el promedio de espectadores y seguidores."
   ]
  },
  {
   "cell_type": "code",
   "execution_count": null,
   "id": "5d9ee320",
   "metadata": {
    "fig.height": 6,
    "fig.width": 10,
    "lines_to_next_cell": 0,
    "tags": [
     "remove_input"
    ]
   },
   "outputs": [],
   "source": [
    "ggplot(data_twitch_es, aes(x = active_days_per_week, y = total_time_streamed)) +\n",
    "  geom_point(aes(color = total_time_streamed), size = 3, alpha = 0.7) +\n",
    "  scale_color_viridis_c(option = \"magma\") +\n",
    "  geom_smooth(method = \"lm\", color = \"blue\", linetype = \"dashed\", size = 1) +\n",
    "  labs(title = \"Relación entre Días Activos por Semana y Tiempo Total de Stream\",\n",
    "       x = \"Días Activos por Semana\",\n",
    "       y = \"Tiempo Total de Stream\") +\n",
    "  theme_minimal() +\n",
    "  theme(plot.title = element_text(size = 15, face = \"bold\", hjust = 0.5),\n",
    "        plot.caption = element_text(size = 8, hjust = 1),\n",
    "        axis.title.x = element_text(margin = margin(t = 20)), \n",
    "        axis.title.y = element_text(margin = margin(r = 20)))"
   ]
  },
  {
   "cell_type": "markdown",
   "id": "38cffc43",
   "metadata": {
    "lines_to_next_cell": 0
   },
   "source": [
    "A diferencia de los gráficos anteriores, acá podemos ver una distribución algo más \"simétrica\" con una pequeña línea de tendencia creciente. Es posible que los valores más bajos de **active_days_per_week** (como 1 o 2 días) correspondan a **total_time_streamed** más bajos (usuarios que transmiten menos tiempo). A medida que active_days_per_week aumenta, total_time_streamed también tiende a aumentar.\n",
    "\n",
    "Además, vemos que existe una mayor concentración en rangos moderados de días activos (como 3-4 días por semana), y no muchos streamers están transmitiendo una cantidad de tiempo extremadamente alta (entre 6 y 7 días) por diversas razones tales como fatiga, cansancio, etc."
   ]
  },
  {
   "cell_type": "code",
   "execution_count": null,
   "id": "0f6281eb",
   "metadata": {
    "fig.height": 6,
    "fig.width": 10,
    "lines_to_next_cell": 0,
    "tags": [
     "remove_input"
    ]
   },
   "outputs": [],
   "source": [
    "ggplot(data_twitch_es, aes(x = total_games_streamed, y = avg_games_per_stream)) +\n",
    "  geom_point(aes(color = avg_games_per_stream), size = 3, alpha = 0.7) +\n",
    "  scale_color_viridis_c(option = \"magma\") +\n",
    "  geom_smooth(method = \"lm\", color = \"blue\", linetype = \"dashed\", size = 1) +\n",
    "  labs(title = \"Relación entre Total de Juegos Transmitidos y Promedio de Juegos por Stream\",\n",
    "       x = \"Total de Juegos Transmitidos\",\n",
    "       y = \"Promedio de Juegos por Stream\") +\n",
    "  theme_minimal() + \n",
    "  theme(plot.title = element_text(size = 15, face = \"bold\", hjust = 0.5), \n",
    "        plot.caption = element_text(size = 8, hjust = 1), \n",
    "        axis.title.x = element_text(margin = margin(t = 20)), \n",
    "        axis.title.y = element_text(margin = margin(r = 20)))"
   ]
  },
  {
   "cell_type": "markdown",
   "id": "dd0efcbe",
   "metadata": {},
   "source": [
    "Podemos ver una concentración en la parte izquierda e inferior/media del gráfico. En la mayoría de los casos, los streamers tienden a tener un total relativamente \"bajo\" de juegos transmitidos, sin embargo, de igual manera se ve una tendencia positiva que podría explicarse por su correlación moderada de 0,54.\n",
    "\n",
    "Esto se puede interpretar como una mezcla de streamers que se especializan en pocos juegos (y por lo tanto, tienen un número bajo de juegos por stream) y otros que juegan una amplia variedad de juegos, pero en sesiones que pueden ser cortas o limitadas."
   ]
  },
  {
   "cell_type": "code",
   "execution_count": null,
   "id": "4eeeccd9",
   "metadata": {
    "lines_to_next_cell": 0
   },
   "outputs": [],
   "source": [
    "summary(data_twitch_es$average_stream_duration)"
   ]
  },
  {
   "cell_type": "markdown",
   "id": "670f7186",
   "metadata": {},
   "source": [
    "A pesar que la variable **avg_stream_duration** no presenta una correlación fuerte con otras variables, creo que es importante tener en consideración, ya que una decisión clave a la hora de stremear. A mi parecer, como mi amigo está comenzando, debería stremear en rangos cercanos a la mediana o media, es decir, **entre 4 y 5 horas**.\n",
    "\n",
    "<b><h3> Conclusiones </h3></b>\n",
    "\n",
    "El objetivo principal de este proyecto fue analizar datos de streamings para ayudar a mi amigo a incrementar su reconocimiento como streamer en la plataforma. Para lograrlo, trabajamos con datos de los canales más reconocidos, y posteriormente filtramos para la comunidad en español, ya que es el idioma de preferencia de mi amigo. Enfocándonos en variables como juegos más populares, promedio de espectadores, duración de streams, entre otras. Utilizamos técnicas de análisis exploratorio y visualizaciones claras para identificar patrones significativos.\n",
    "\n",
    "A continuación describiremos algunos hallazgos encontrados que serán finalmente, recomendaciones para mi amigo y los canales que vienen ya con una comunidad y quieren llevar su stream al siguiente nivel:\n",
    "\n",
    "**1) Patrones en la Duración de Streams:**\n",
    "\n",
    "La duración promedio de los streams no mostró una correlación significativa con otras variables como viewers o followers. Sin embargo, la mediana de duración más efectiva está alrededor **de 4 a 5 horas**, lo que parece ser un punto intermedio que balancea el tiempo de exposición sin perder la atención de los espectadores.\n",
    "\n",
    "**2) Juegos Más Populares:**\n",
    "\n",
    "Los juegos más transmitidos varían según el día de la semana. Por ejemplo, **\"Just Chatting\" y \"League of Legends\"** destacan consistentemente entre los más populares. Estos juegos atraen a una mayor cantidad de espectadores y podrían ser clave para construir una base de seguidores fieles.\n",
    "\n",
    "Por otro lado, tenemos juegos como **Grand Theft Auto V** que tienen un buen engagement con el público y los datos muestran que es un juego que permite a los streamers obtener buenos seguidores y por ende, mayor exposición.\n",
    "\n",
    "Finalmente, vemos que **Minecraft** es un juego que sería presentado como una **oportunidad** para destacar ya que tiene un buen potencial y existen streamers que consiguen muchos seguidores gracias a este juego. Es importante considerar las estrategias y copiarse de aquellos streamers que ya tienen éxito. \n",
    "\n",
    "Otros dos juegos que a mi parecer representan una **oportunidad**, serían el **FIFA 21** y **Valorant**, ya que si bien vemos que no tienen sufiiente data, son juegos que tienen una buena cantidad de seguidores obtenidos y están dentro del Top 5 más jugados. Creo que mi amigo podría agregarlos a su lista como opciones secundarias.\n",
    "\n",
    "**3) Días de mayor actividad:**\n",
    "\n",
    "**Miércoles, Jueves y Domingo** destacan como los días con mayor cantidad de viewers promedio, sugiriendo que estos días son estratégicos para transmitir y captar más público. Mi recomendación sería dependiendo del tiempo disponible de mi amigo, sin embargo, **días entre Martes a Jueves y Domingo (5 días)** son días estratégicos en los que podría ver mejores resultados a mediano plazo.\n",
    "\n",
    "**4) Relación con los Viewers:**\n",
    "\n",
    "Vimos como variables como **total_views** y **total_followers** están moderadamente correlacionadas, indicando que el crecimiento en vistas impulsa el aumento de seguidores. Esto es clave, ya que, si mi amigo tiene una buena estrategia de visibilidad podría incrementar considerablemente su cantidad de seguidores. Esrategias como dar visibilidad a su canal mediante clips o videos cortos en **Tik Tok, Youtube, u otras plataformas**, podrían ayudarlo mucho a crecer.\n",
    "\n",
    "Las transmisiones más exitosas combinan consistencia en los horarios, elección de juegos populares y una interacción activa con la comunidad.\n",
    "\n",
    "**5) Diversificación:**\n",
    "\n",
    "De la mano con el punto anterior, crear contenido para otras plataformas podría dar visibilidad considerable, sin embargo, mi amigo también podría explorar juegos menos saturados pero con comunidades fieles, alternando con los más populares para captar nuevas audiencias.\n",
    "\n",
    "Es importante monitorear métricas clave mensualmente para ajustar la estrategia según el rendimiento y tendencias actuales."
   ]
  },
  {
   "cell_type": "markdown",
   "id": "723eb6c4",
   "metadata": {},
   "source": [
    "<b><h3> Reflexión Final </h3></b>\n",
    "\n",
    "El análisis realizado demuestra que un enfoque basado en datos puede ser invaluable para mejorar las posibilidades de éxito como streamer. Mi amigo ahora cuenta con una hoja de ruta clara para optimizar su contenido y aumentar su reconocimiento, destacando la importancia de la consistencia, la elección estratégica de juegos y la conexión con su comunidad. **¡Con estas recomendaciones, está más cerca de alcanzar su meta de ser un streamer destacado!**\n",
    "\n"
   ]
  }
 ],
 "metadata": {
  "jupytext": {
   "cell_metadata_filter": "warning,fig.height,tags,fig.width,-all",
   "main_language": "R",
   "notebook_metadata_filter": "-all"
  }
 },
 "nbformat": 4,
 "nbformat_minor": 5
}
